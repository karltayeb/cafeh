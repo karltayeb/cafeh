{
 "cells": [
  {
   "cell_type": "markdown",
   "metadata": {},
   "source": [
    "### Generate simulation\n",
    "\n",
    "1. generate causal design matrix\n",
    "2. generate simulated expression data across tissues, individuals\n",
    "3. compute summary stats\n",
    "4. compare output of individual tissue models, joint tissue models, and summary stat models\n",
    "    - \n",
    "\n",
    "Take as input\n",
    "- genotype matrix $X$\n",
    "- percent variance explained of phenotype\n",
    "- a $T \\times N$ causal snp design matrix\n",
    "\n",
    "Returns\n",
    "- "
   ]
  },
  {
   "cell_type": "code",
   "execution_count": 1,
   "metadata": {},
   "outputs": [],
   "source": [
    "%load_ext autoreload\n",
    "%autoreload 2"
   ]
  },
  {
   "cell_type": "code",
   "execution_count": 2,
   "metadata": {},
   "outputs": [],
   "source": [
    "import os\n",
    "import numpy as np\n",
    "import pandas as pd\n",
    "import pickle"
   ]
  },
  {
   "cell_type": "code",
   "execution_count": 3,
   "metadata": {},
   "outputs": [],
   "source": [
    "import matplotlib.pyplot as plt\n",
    "import seaborn as sns\n",
    "from scipy import stats"
   ]
  },
  {
   "cell_type": "code",
   "execution_count": 4,
   "metadata": {},
   "outputs": [],
   "source": [
    "from coloc.independent_model import IndependentFactorSER\n",
    "from coloc.spike_and_slab_ser import SimpleMVNFactorSER\n",
    "from coloc.spike_and_slab_ser2 import MVNFactorSER"
   ]
  },
  {
   "cell_type": "code",
   "execution_count": 5,
   "metadata": {},
   "outputs": [],
   "source": [
    "two_tissue = np.array([[1, 0, 1], [0, 1, 1]])\n",
    "three_tissue = np.array([[1, 0, 0, 1, 1, 0, 1], [0, 1, 0, 1, 0, 1, 1], [0, 0, 1, 0, 1, 1, 1,]])"
   ]
  },
  {
   "cell_type": "code",
   "execution_count": 6,
   "metadata": {},
   "outputs": [
    {
     "name": "stdout",
     "output_type": "stream",
     "text": [
      "Training model for ENSG00000100427.15\n",
      "loading genotype matrix...\n"
     ]
    }
   ],
   "source": [
    "genes = np.array(['.'.join(x.split('.')[:-2]) for x in os.listdir('/work-zfs/abattle4/karl/gp_fine_mapping/eQTL_sign/associations/chr22/')])\n",
    "gene = genes[30]\n",
    "print('Training model for {}'.format(gene))\n",
    "\n",
    "# load genotype\n",
    "print('loading genotype matrix...')\n",
    "genotype_path = \"/work-zfs/abattle4/lab_data/GTEx_v8_trans_eqtl_data_processed_by_brian/processed_genotypes/GTEx_Analysis_2017-06-05_v8_WholeGenomeSeq_838Indiv_chr22_dosage_MAF_05.txt\"\n",
    "chr22_genotype = pd.read_csv(genotype_path, sep='\\t', index_col=0, na_values='-')"
   ]
  },
  {
   "cell_type": "code",
   "execution_count": 7,
   "metadata": {},
   "outputs": [
    {
     "name": "stdout",
     "output_type": "stream",
     "text": [
      "loading associations...\n"
     ]
    }
   ],
   "source": [
    "# load associations\n",
    "print('loading associations...')\n",
    "associations = pd.read_csv('/work-zfs/abattle4/karl/gp_fine_mapping/eQTL_sign/associations/chr22/{}.associations.txt'.format(gene), sep='\\t', header=None)\n",
    "column_names = ['tissue', 'gene_id', 'variant_id', 'tss_distance','ma_samples', 'ma_count', 'maf', 'pval_nominal', 'slope', 'slope_se']\n",
    "associations.columns = column_names\n",
    "tissues = np.unique(associations.tissue)\n",
    "associations.loc[:, 'z_score'] = associations.slope / associations.slope_se"
   ]
  },
  {
   "cell_type": "code",
   "execution_count": 8,
   "metadata": {},
   "outputs": [],
   "source": [
    "# figure out tss\n",
    "tss = int(associations.iloc[0].variant_id.split('_')[1]) - associations.iloc[0].tss_distance\n",
    "\n",
    "# select variants within 1Mb of tss\n",
    "pos = chr22_genotype.reset_index().loc[:, 'index'].apply(lambda x: int(x.split('_')[1])).values\n",
    "in_range = np.logical_and((pos < tss + 1000000), (pos > tss - 1000000))\n",
    "\n",
    "# filter out variants with missing genotype data\n",
    "cis_variants = chr22_genotype.loc[in_range]\n",
    "nan_filter = ~np.any(np.isnan(cis_variants.values), 1)\n",
    "cis_variants = cis_variants.loc[nan_filter]"
   ]
  },
  {
   "cell_type": "code",
   "execution_count": 9,
   "metadata": {},
   "outputs": [],
   "source": [
    "def compute_sigma2(X, true_effect, pve):\n",
    "    var = np.var(true_effect @ X)\n",
    "    sigma2_t = var/pve - var\n",
    "    return sigma2_t\n",
    "\n",
    "def generate_data(X, T, pve, linkage):\n",
    "    \"\"\"\n",
    "    X: genotype data\n",
    "    T: number of tissues\n",
    "    pve: variance explained in simulation by X\n",
    "    \n",
    "    for multiple tissues we generate independent, normally distirbuted\n",
    "    effect sizes for each tissue\n",
    "    \n",
    "    there are two causal variants approximately (ld)\n",
    "    \"\"\"\n",
    "    N, M = X.shape\n",
    "\n",
    "    # normalize and compute LD\n",
    "    X = (X - X.mean(1)[:, None]) / np.sqrt(np.var(X, 1))[:, None]\n",
    "    LD = X @ X.T / M\n",
    "\n",
    "    # select snps\n",
    "    snp1 = np.random.choice(N)\n",
    "    snp2 = np.argmin(np.abs((np.abs(LD[snp1]) - linkage)))\n",
    "    causal_snps = np.array([snp1, snp2])\n",
    "\n",
    "    # generate effect sizes\n",
    "    true_effects = np.zeros((T, X.shape[0]))\n",
    "    true_effects[:, causal_snps] = np.random.normal(size=(T, causal_snps.size)) * 0.6\n",
    "    tissue_variance = np.array([compute_sigma2(X, te, pve) for te in true_effects])\n",
    "\n",
    "    #simulate expression\n",
    "    expression = (true_effects @ X) + np.random.normal(size=(T, M)) * np.sqrt(tissue_variance)[:, None]\n",
    "    expression = expression - expression.mean(1)[:, None]\n",
    "\n",
    "    # generate summary statistics\n",
    "    zscores = (expression @ X.T / M) / np.sqrt(tissue_variance[:, None] / M)\n",
    "\n",
    "    data = {\n",
    "        'LD': LD,\n",
    "        'X': X,\n",
    "        'Y': expression,\n",
    "        'zscores': zscores,\n",
    "        'causal_snps': causal_snps,\n",
    "        'true_effects': true_effects,\n",
    "        'tissue_variance': tissue_variance\n",
    "    }\n",
    "    \n",
    "    return data"
   ]
  },
  {
   "cell_type": "code",
   "execution_count": 184,
   "metadata": {},
   "outputs": [],
   "source": [
    "data = generate_data(cis_variants.values[:1000], 20, 0.1, 0.5)"
   ]
  },
  {
   "cell_type": "code",
   "execution_count": 192,
   "metadata": {},
   "outputs": [],
   "source": [
    "from coloc.independent_model import IndependentFactorSER\n",
    "from coloc.spike_and_slab_ser import SimpleMVNFactorSER\n",
    "from coloc.spike_and_slab_ser2 import MVNFactorSER"
   ]
  },
  {
   "cell_type": "code",
   "execution_count": 193,
   "metadata": {},
   "outputs": [],
   "source": [
    "g = IndependentFactorSER(X=data['X'], Y=data['Y'], K=20)\n",
    "m = SimpleMVNFactorSER(X=data['LD'], Y=data['zscores'], K=20)\n",
    "n = MVNFactorSER(X=data['LD'], Y=data['zscores'], K=20)"
   ]
  },
  {
   "cell_type": "code",
   "execution_count": 194,
   "metadata": {},
   "outputs": [
    {
     "name": "stdout",
     "output_type": "stream",
     "text": [
      "Iter 0: -35600.94762605338\n",
      "Iter 1: -34612.64951127108\n",
      "Iter 2: -34573.214638964884\n",
      "Iter 3: -34555.337498478526\n",
      "Iter 4: -34544.20775378257\n",
      "Iter 5: -34535.79934664183\n",
      "Iter 6: -34529.103350454716\n",
      "Iter 7: -34524.38584858226\n",
      "Iter 8: -34521.318149734034\n",
      "Iter 9: -34519.10106049132\n",
      "cumulative run time: 4.659459352493286\n",
      "CPU times: user 4.63 s, sys: 11 ms, total: 4.64 s\n",
      "Wall time: 4.66 s\n"
     ]
    }
   ],
   "source": [
    "%%time\n",
    "g.fit(max_iter=10, update_active=False, update_pi=True, ARD_weights=True, update_variance=True, verbose=True)"
   ]
  },
  {
   "cell_type": "code",
   "execution_count": 195,
   "metadata": {},
   "outputs": [
    {
     "data": {
      "image/png": "[encoded data removed]",
      "text/plain": [
       "<Figure size 1296x288 with 5 Axes>"
      ]
     },
     "metadata": {},
     "output_type": "display_data"
    }
   ],
   "source": [
    "g.plot_components()"
   ]
  },
  {
   "cell_type": "code",
   "execution_count": 196,
   "metadata": {},
   "outputs": [
    {
     "name": "stdout",
     "output_type": "stream",
     "text": [
      "Iter 0: 388.3395002817543\n",
      "Iter 1: 639.8286264808587\n",
      "Iter 2: 672.0377668262201\n",
      "Iter 3: 698.4719935133317\n",
      "Iter 4: 711.1028493194398\n",
      "Iter 5: 717.486068310364\n",
      "Iter 6: 722.6705884357768\n",
      "Iter 7: 727.2184095704635\n",
      "Iter 8: 731.2817903339204\n",
      "Iter 9: 736.2427676558774\n",
      "Iter 10: 746.4077761981104\n",
      "Iter 11: 749.5348766375063\n",
      "Iter 12: 750.7915612256608\n",
      "Iter 13: 751.6550835765661\n",
      "Iter 14: 752.3467375952536\n",
      "Iter 15: 752.9376756165622\n",
      "Iter 16: 753.4640646616052\n",
      "Iter 17: 753.9500181712515\n",
      "Iter 18: 754.4146933658299\n",
      "Iter 19: 754.875242594228\n",
      "Iter 20: 755.3482263403728\n",
      "Iter 21: 755.8491662629932\n",
      "Iter 22: 756.3875078762445\n",
      "Iter 23: 756.9528545169744\n",
      "Iter 24: 757.5011077527371\n",
      "Iter 25: 757.980207201011\n",
      "Iter 26: 758.3854016346796\n",
      "Iter 27: 758.7479104492518\n",
      "Iter 28: 759.0821578765668\n",
      "Iter 29: 759.3766774275209\n",
      "Iter 30: 759.6272705961863\n",
      "Iter 31: 759.8535751545426\n",
      "Iter 32: 760.0761322124031\n",
      "Iter 33: 760.2990915167655\n",
      "Iter 34: 760.5114393129747\n",
      "Iter 35: 760.6998939273735\n",
      "Iter 36: 760.8604105285465\n",
      "Iter 37: 760.9975401918944\n",
      "Iter 38: 761.117941369148\n",
      "Iter 39: 761.2266123140307\n",
      "Iter 40: 761.3265763942175\n",
      "Iter 41: 761.4196494631071\n",
      "Iter 42: 761.5070393228385\n",
      "Iter 43: 761.5896383663243\n",
      "Iter 44: 761.6681475675401\n",
      "Iter 45: 761.7431330075858\n",
      "Iter 46: 761.8150574800302\n",
      "Iter 47: 761.8843009038519\n",
      "Iter 48: 761.9511735278311\n",
      "Iter 49: 762.015923541689\n",
      "Iter 50: 762.0787404362037\n",
      "Iter 51: 762.1397556060396\n",
      "Iter 52: 762.1990418940178\n",
      "Iter 53: 762.2566139690507\n",
      "Iter 54: 762.3124315528132\n",
      "Iter 55: 762.366407451824\n",
      "Iter 56: 762.4184219295541\n",
      "Iter 57: 762.4683438913914\n",
      "Iter 58: 762.5160573928198\n",
      "Iter 59: 762.5614892793816\n",
      "Iter 60: 762.6046314183155\n",
      "Iter 61: 762.6455508284051\n",
      "Iter 62: 762.6843842354201\n",
      "Iter 63: 762.7213190847646\n",
      "Iter 64: 762.7565677404303\n",
      "Iter 65: 762.7903428317686\n",
      "Iter 66: 762.8228393740446\n",
      "Iter 67: 762.8542254800047\n",
      "Iter 68: 762.8846404495805\n",
      "Iter 69: 762.9141977252852\n",
      "Iter 70: 762.9429903226261\n",
      "Iter 71: 762.9710971167814\n",
      "Iter 72: 762.9985891809512\n",
      "Iter 73: 763.0255359592663\n",
      "Iter 74: 763.052011395359\n",
      "Iter 75: 763.0781003110843\n",
      "Iter 76: 763.1039054401795\n",
      "Iter 77: 763.1295556522268\n",
      "Iter 78: 763.1552161104216\n",
      "Iter 79: 763.1811014253083\n",
      "Iter 80: 763.2074933019459\n",
      "Iter 81: 763.2347646928259\n",
      "Iter 82: 763.2634129346093\n",
      "Iter 83: 763.294104432346\n",
      "Iter 84: 763.3277324132639\n",
      "Iter 85: 763.3654855872893\n",
      "Iter 86: 763.4089164091183\n",
      "Iter 87: 763.4599780570649\n",
      "Iter 88: 763.5209607814276\n",
      "Iter 89: 763.5941923120477\n",
      "Iter 90: 763.6813031659365\n",
      "Iter 91: 763.7819890804428\n",
      "Iter 92: 763.8929098602007\n",
      "Iter 93: 764.0083496364742\n",
      "Iter 94: 764.1233834231346\n",
      "Iter 95: 764.2367498665752\n",
      "Iter 96: 764.3496284806382\n",
      "Iter 97: 764.4612357866024\n",
      "Iter 98: 764.5664146289267\n",
      "Iter 99: 764.6585806320388\n",
      "cumulative run time: 35.1605761051178\n",
      "CPU times: user 34.9 s, sys: 26.7 ms, total: 34.9 s\n",
      "Wall time: 35.2 s\n"
     ]
    }
   ],
   "source": [
    "%%time\n",
    "n.fit(max_iter=100, update_active=False, ARD_weights=True, verbose=True)"
   ]
  },
  {
   "cell_type": "code",
   "execution_count": 198,
   "metadata": {},
   "outputs": [
    {
     "name": "stdout",
     "output_type": "stream",
     "text": [
      "Iter 0: 765.0199258694606\n",
      "Iter 1: 765.0359496981341\n",
      "Iter 2: 765.051554869175\n",
      "Iter 3: 765.0667666175666\n",
      "Iter 4: 765.0816046160694\n",
      "Iter 5: 765.0960858687498\n",
      "Iter 6: 765.1102258434116\n",
      "Iter 7: 765.1240389244633\n",
      "Iter 8: 765.1375386065159\n",
      "Iter 9: 765.1507375896745\n",
      "cumulative run time: 42.28372049331665\n"
     ]
    }
   ],
   "source": [
    "n.fit(max_iter=10, update_active=False, ARD_weights=True, verbose=True)"
   ]
  },
  {
   "cell_type": "code",
   "execution_count": 54,
   "metadata": {},
   "outputs": [
    {
     "name": "stdout",
     "output_type": "stream",
     "text": [
      "Iter 0: -68.02868577320609\n",
      "Iter 1: 262.89771875493466\n",
      "Iter 2: 323.9677727754399\n",
      "Iter 3: 454.0117852108528\n",
      "Iter 4: 552.3654580471602\n",
      "Iter 5: 613.8069721914487\n",
      "Iter 6: 643.9628292676337\n",
      "Iter 7: 666.4190430524169\n",
      "Iter 8: 686.605410998495\n",
      "Iter 9: 705.7993391971826\n",
      "Iter 10: 717.8684213204693\n",
      "Iter 11: 725.9628463875251\n",
      "Iter 12: 732.9085840883513\n",
      "Iter 13: 738.9744412036592\n",
      "Iter 14: 743.2957095120977\n",
      "Iter 15: 746.5709822162244\n",
      "Iter 16: 749.3356541593969\n",
      "Iter 17: 752.015961344156\n",
      "Iter 18: 755.6750556476461\n",
      "Iter 19: 760.2281700564503\n",
      "Iter 20: 763.2237766576728\n",
      "Iter 21: 765.3472368339781\n",
      "Iter 22: 767.3221029234356\n",
      "Iter 23: 769.5361357121078\n",
      "Iter 24: 771.7324724950513\n",
      "Iter 25: 773.7784692997361\n",
      "Iter 26: 775.4886509101997\n",
      "Iter 27: 776.9062172285975\n",
      "Iter 28: 778.1600723680101\n",
      "Iter 29: 779.2949155027951\n",
      "Iter 30: 780.2967924142451\n",
      "Iter 31: 781.1382771174801\n",
      "Iter 32: 781.8278809631119\n",
      "Iter 33: 782.4103477752159\n",
      "Iter 34: 782.9319747455762\n",
      "Iter 35: 783.4134866303365\n",
      "Iter 36: 783.8483880570069\n",
      "Iter 37: 784.2267431004253\n",
      "Iter 38: 784.5576417165661\n",
      "Iter 39: 784.859860067821\n",
      "Iter 40: 785.1485633054252\n",
      "Iter 41: 785.4341927113978\n",
      "Iter 42: 785.7250001269241\n",
      "Iter 43: 786.029006378213\n",
      "Iter 44: 786.3551299822884\n",
      "Iter 45: 786.7137540411446\n",
      "Iter 46: 787.1163432124131\n",
      "Iter 47: 787.5723400966001\n",
      "Iter 48: 788.0797417784087\n",
      "Iter 49: 788.6093571813652\n",
      "Iter 50: 789.1053319836251\n",
      "Iter 51: 789.5284999682017\n",
      "Iter 52: 789.8790046313861\n",
      "Iter 53: 790.1578484227963\n",
      "Iter 54: 790.3656613653397\n",
      "Iter 55: 790.5226791589337\n",
      "Iter 56: 790.6509685540263\n",
      "Iter 57: 790.7627099021643\n",
      "Iter 58: 790.8638984221684\n",
      "Iter 59: 790.9578352117867\n",
      "Iter 60: 791.0465776505121\n",
      "Iter 61: 791.1315521015774\n",
      "Iter 62: 791.213848751856\n",
      "Iter 63: 791.2943810540745\n",
      "Iter 64: 791.3739832762213\n",
      "Iter 65: 791.4534797949373\n",
      "Iter 66: 791.5337437648279\n",
      "Iter 67: 791.615756365423\n",
      "Iter 68: 791.7006757561828\n",
      "Iter 69: 791.7899250088415\n",
      "Iter 70: 791.8853091373089\n",
      "Iter 71: 791.9891697613477\n",
      "Iter 72: 792.1045715793878\n",
      "Iter 73: 792.2354531390729\n",
      "Iter 74: 792.3864576614662\n",
      "Iter 75: 792.5615126191658\n",
      "Iter 76: 792.7589025396745\n",
      "Iter 77: 792.96123376226\n",
      "Iter 78: 793.133132493828\n",
      "Iter 79: 793.2522240624344\n",
      "Iter 80: 793.3315850973901\n",
      "Iter 81: 793.3911950852765\n",
      "Iter 82: 793.4409827521687\n",
      "Iter 83: 793.4849685317344\n",
      "Iter 84: 793.525052183558\n",
      "Iter 85: 793.5622859253613\n",
      "Iter 86: 793.5973114621314\n",
      "Iter 87: 793.630547249611\n",
      "Iter 88: 793.6622810475851\n",
      "Iter 89: 793.6927196826389\n",
      "Iter 90: 793.7220175007611\n",
      "Iter 91: 793.7502934650204\n",
      "Iter 92: 793.777641867462\n",
      "Iter 93: 793.8041392840676\n",
      "Iter 94: 793.8298492325904\n",
      "Iter 95: 793.8548253781903\n",
      "Iter 96: 793.8791137937625\n",
      "Iter 97: 793.902754588785\n",
      "Iter 98: 793.9257831064674\n",
      "Iter 99: 793.9482308195554\n",
      "CPU times: user 53.5 s, sys: 70.9 ms, total: 53.6 s\n",
      "Wall time: 54 s\n"
     ]
    }
   ],
   "source": [
    "%%time\n",
    "m.fit(max_iter=100, update_active=False, ARD_weights=True, verbose=True)"
   ]
  },
  {
   "cell_type": "code",
   "execution_count": 63,
   "metadata": {},
   "outputs": [
    {
     "data": {
      "text/plain": [
       "array([[0.99, 0.99, 0.99, 0.99, 0.99, 0.99, 0.99, 0.99, 0.99, 0.99, 0.99,\n",
       "        0.99, 0.99, 0.99, 0.99, 0.99, 0.99, 0.99, 0.99, 0.99],\n",
       "       [0.99, 0.99, 0.99, 0.99, 0.99, 0.99, 0.99, 0.99, 0.99, 0.99, 0.99,\n",
       "        0.99, 0.99, 0.99, 0.99, 0.99, 0.99, 0.99, 0.99, 0.99],\n",
       "       [0.99, 0.99, 0.99, 0.99, 0.99, 0.99, 0.99, 0.99, 0.99, 0.99, 0.99,\n",
       "        0.99, 0.99, 0.99, 0.99, 0.99, 0.99, 0.99, 0.99, 0.99],\n",
       "       [0.99, 0.99, 0.99, 0.99, 0.99, 0.99, 0.99, 0.99, 0.99, 0.99, 0.99,\n",
       "        0.99, 0.99, 0.99, 0.99, 0.99, 0.99, 0.99, 0.99, 0.99],\n",
       "       [0.99, 0.99, 0.99, 0.99, 0.99, 0.99, 0.99, 0.99, 0.99, 0.99, 0.99,\n",
       "        0.99, 0.99, 0.99, 0.99, 0.99, 0.99, 0.99, 0.99, 0.99],\n",
       "       [0.99, 0.99, 0.99, 0.99, 0.99, 0.99, 0.99, 0.99, 0.99, 0.99, 0.99,\n",
       "        0.99, 0.99, 0.99, 0.99, 0.99, 0.99, 0.99, 0.99, 0.99],\n",
       "       [0.99, 0.99, 0.99, 0.99, 0.99, 0.99, 0.99, 0.99, 0.99, 0.99, 0.99,\n",
       "        0.99, 0.99, 0.99, 0.99, 0.99, 0.99, 0.99, 0.99, 0.99],\n",
       "       [0.99, 0.99, 0.99, 0.99, 0.99, 0.99, 0.99, 0.99, 0.99, 0.99, 0.99,\n",
       "        0.99, 0.99, 0.99, 0.99, 0.99, 0.99, 0.99, 0.99, 0.99],\n",
       "       [0.99, 0.99, 0.99, 0.99, 0.99, 0.99, 0.99, 0.99, 0.99, 0.99, 0.99,\n",
       "        0.99, 0.99, 0.99, 0.99, 0.99, 0.99, 0.99, 0.99, 0.99],\n",
       "       [0.99, 0.99, 0.99, 0.99, 0.99, 0.99, 0.99, 0.99, 0.99, 0.99, 0.99,\n",
       "        0.99, 0.99, 0.99, 0.99, 0.99, 0.99, 0.99, 0.99, 0.99],\n",
       "       [0.99, 0.99, 0.99, 0.99, 0.99, 0.99, 0.99, 0.99, 0.99, 0.99, 0.99,\n",
       "        0.99, 0.99, 0.99, 0.99, 0.99, 0.99, 0.99, 0.99, 0.99],\n",
       "       [0.99, 0.99, 0.99, 0.99, 0.99, 0.99, 0.99, 0.99, 0.99, 0.99, 0.99,\n",
       "        0.99, 0.99, 0.99, 0.99, 0.99, 0.99, 0.99, 0.99, 0.99],\n",
       "       [0.99, 0.99, 0.99, 0.99, 0.99, 0.99, 0.99, 0.99, 0.99, 0.99, 0.99,\n",
       "        0.99, 0.99, 0.99, 0.99, 0.99, 0.99, 0.99, 0.99, 0.99],\n",
       "       [0.99, 0.99, 0.99, 0.99, 0.99, 0.99, 0.99, 0.99, 0.99, 0.99, 0.99,\n",
       "        0.99, 0.99, 0.99, 0.99, 0.99, 0.99, 0.99, 0.99, 0.99],\n",
       "       [0.99, 0.99, 0.99, 0.99, 0.99, 0.99, 0.99, 0.99, 0.99, 0.99, 0.99,\n",
       "        0.99, 0.99, 0.99, 0.99, 0.99, 0.99, 0.99, 0.99, 0.99],\n",
       "       [0.99, 0.99, 0.99, 0.99, 0.99, 0.99, 0.99, 0.99, 0.99, 0.99, 0.99,\n",
       "        0.99, 0.99, 0.99, 0.99, 0.99, 0.99, 0.99, 0.99, 0.99],\n",
       "       [0.99, 0.99, 0.99, 0.99, 0.99, 0.99, 0.99, 0.99, 0.99, 0.99, 0.99,\n",
       "        0.99, 0.99, 0.99, 0.99, 0.99, 0.99, 0.99, 0.99, 0.99],\n",
       "       [0.99, 0.99, 0.99, 0.99, 0.99, 0.99, 0.99, 0.99, 0.99, 0.99, 0.99,\n",
       "        0.99, 0.99, 0.99, 0.99, 0.99, 0.99, 0.99, 0.99, 0.99],\n",
       "       [0.99, 0.99, 0.99, 0.99, 0.99, 0.99, 0.99, 0.99, 0.99, 0.99, 0.99,\n",
       "        0.99, 0.99, 0.99, 0.99, 0.99, 0.99, 0.99, 0.99, 0.99],\n",
       "       [0.99, 0.99, 0.99, 0.99, 0.99, 0.99, 0.99, 0.99, 0.99, 0.99, 0.99,\n",
       "        0.99, 0.99, 0.99, 0.99, 0.99, 0.99, 0.99, 0.99, 0.99]])"
      ]
     },
     "execution_count": 63,
     "metadata": {},
     "output_type": "execute_result"
    }
   ],
   "source": [
    "g.active"
   ]
  },
  {
   "cell_type": "code",
   "execution_count": 55,
   "metadata": {},
   "outputs": [
    {
     "data": {
      "text/plain": [
       "2.8274321814036483e-05"
      ]
     },
     "execution_count": 55,
     "metadata": {},
     "output_type": "execute_result"
    }
   ],
   "source": [
    "np.abs((m.elbos[-1] - m.elbos[-2]) / m.elbos[-2])"
   ]
  },
  {
   "cell_type": "code",
   "execution_count": 56,
   "metadata": {},
   "outputs": [
    {
     "data": {
      "text/plain": [
       "6.383306023541085e-05"
      ]
     },
     "execution_count": 56,
     "metadata": {},
     "output_type": "execute_result"
    }
   ],
   "source": [
    "np.abs((n.elbos[-1] - n.elbos[-2]) / n.elbos[-2])"
   ]
  },
  {
   "cell_type": "code",
   "execution_count": 57,
   "metadata": {},
   "outputs": [
    {
     "data": {
      "text/plain": [
       "2.969333542547307e-07"
      ]
     },
     "execution_count": 57,
     "metadata": {},
     "output_type": "execute_result"
    }
   ],
   "source": [
    "np.abs((g.elbos[-1] - g.elbos[-2]) / g.elbos[-2])"
   ]
  },
  {
   "cell_type": "code",
   "execution_count": 58,
   "metadata": {},
   "outputs": [
    {
     "data": {
      "image/png": "[encoded data removed]",
      "text/plain": [
       "<Figure size 1296x288 with 5 Axes>"
      ]
     },
     "metadata": {},
     "output_type": "display_data"
    }
   ],
   "source": [
    "g.plot_components()"
   ]
  },
  {
   "cell_type": "code",
   "execution_count": 59,
   "metadata": {},
   "outputs": [
    {
     "data": {
      "image/png": "[encoded data removed]",
      "text/plain": [
       "<Figure size 1296x288 with 5 Axes>"
      ]
     },
     "metadata": {},
     "output_type": "display_data"
    }
   ],
   "source": [
    "m.plot_components()"
   ]
  },
  {
   "cell_type": "code",
   "execution_count": 60,
   "metadata": {},
   "outputs": [
    {
     "data": {
      "image/png": "[encoded data removed]",
      "text/plain": [
       "<Figure size 1296x288 with 5 Axes>"
      ]
     },
     "metadata": {},
     "output_type": "display_data"
    }
   ],
   "source": [
    "n.plot_components()"
   ]
  },
  {
   "cell_type": "code",
   "execution_count": null,
   "metadata": {},
   "outputs": [],
   "source": []
  },
  {
   "cell_type": "code",
   "execution_count": 32,
   "metadata": {},
   "outputs": [
    {
     "name": "stdout",
     "output_type": "stream",
     "text": [
      " "
     ]
    }
   ],
   "source": [
    "%%prun\n",
    "m.compute_prediction()"
   ]
  },
  {
   "cell_type": "code",
   "execution_count": null,
   "metadata": {},
   "outputs": [],
   "source": [
    "m._compute_prediction()"
   ]
  },
  {
   "cell_type": "code",
   "execution_count": null,
   "metadata": {},
   "outputs": [],
   "source": [
    ".compute_prediction_component()"
   ]
  },
  {
   "cell_type": "code",
   "execution_count": null,
   "metadata": {},
   "outputs": [],
   "source": [
    "%%time\n",
    "n.compute_prediction()"
   ]
  },
  {
   "cell_type": "code",
   "execution_count": null,
   "metadata": {},
   "outputs": [],
   "source": [
    "plt.plot(np.log(np.log(np.log(n.elbos[1:]))))"
   ]
  },
  {
   "cell_type": "code",
   "execution_count": null,
   "metadata": {},
   "outputs": [],
   "source": [
    "plt.plot((np.array(n.elbos) - np.roll(n.elbos, shift=1))[1:])"
   ]
  },
  {
   "cell_type": "code",
   "execution_count": null,
   "metadata": {},
   "outputs": [],
   "source": [
    "%%time\n",
    "n._compute_prediction()"
   ]
  },
  {
   "cell_type": "code",
   "execution_count": null,
   "metadata": {},
   "outputs": [],
   "source": [
    "%%time\n",
    "n._compute_prediction_old()"
   ]
  },
  {
   "cell_type": "code",
   "execution_count": null,
   "metadata": {},
   "outputs": [],
   "source": [
    "n.compute_prediction_component.cache_info()"
   ]
  },
  {
   "cell_type": "code",
   "execution_count": null,
   "metadata": {},
   "outputs": [],
   "source": [
    "g.fit(max_iter=20, update_active=False, update_pi=True, ARD_weights=True, update_variance=True, verbose=True)"
   ]
  },
  {
   "cell_type": "code",
   "execution_count": null,
   "metadata": {},
   "outputs": [],
   "source": [
    "plt.plot(g.elbos)"
   ]
  },
  {
   "cell_type": "code",
   "execution_count": null,
   "metadata": {},
   "outputs": [],
   "source": [
    "data['causal_snps']"
   ]
  },
  {
   "cell_type": "code",
   "execution_count": null,
   "metadata": {},
   "outputs": [],
   "source": [
    "g.get_credible_sets()[0][0], g.get_credible_sets()[0][1]"
   ]
  },
  {
   "cell_type": "code",
   "execution_count": null,
   "metadata": {},
   "outputs": [],
   "source": [
    "g.plot_components()"
   ]
  },
  {
   "cell_type": "code",
   "execution_count": null,
   "metadata": {},
   "outputs": [],
   "source": [
    "from coloc.spike_and_slab_ser2 import MVNFactorSER\n",
    "m = MVNFactorSER(X=data['LD'], Y=data['zscores'], K=5)\n",
    "%prun m.fit(max_iter=50, update_active=False, update_pi=True, ARD_weights=False, verbose=True)"
   ]
  },
  {
   "cell_type": "code",
   "execution_count": null,
   "metadata": {},
   "outputs": [],
   "source": [
    "m.plot_components()"
   ]
  },
  {
   "cell_type": "code",
   "execution_count": null,
   "metadata": {},
   "outputs": [],
   "source": []
  },
  {
   "cell_type": "code",
   "execution_count": null,
   "metadata": {},
   "outputs": [],
   "source": [
    "m.get_credible_sets()"
   ]
  },
  {
   "cell_type": "code",
   "execution_count": null,
   "metadata": {},
   "outputs": [],
   "source": [
    "plt.plot(m.elbos)"
   ]
  },
  {
   "cell_type": "code",
   "execution_count": null,
   "metadata": {},
   "outputs": [],
   "source": [
    "from coloc.spike_and_slab_ser2 import MVNFactorSER\n",
    "m = MVNFactorSER(X=data['LD'], Y=data['zscores'], K=5)"
   ]
  },
  {
   "cell_type": "code",
   "execution_count": null,
   "metadata": {},
   "outputs": [],
   "source": [
    "%prun m.fit(max_iter=5, update_active=False, update_pi=True, update_weights=True, ARD_weights=False, verbose=True)"
   ]
  },
  {
   "cell_type": "code",
   "execution_count": null,
   "metadata": {},
   "outputs": [],
   "source": [
    "from coloc.spike_and_slab_ser2 import MVNFactorSER\n",
    "m = MVNFactorSER(X=data['LD'], Y=data['zscores'], K=5)"
   ]
  },
  {
   "cell_type": "code",
   "execution_count": null,
   "metadata": {},
   "outputs": [],
   "source": [
    "%prun m.fit(max_iter=5, update_active=False, update_pi=True, update_weights=True, ARD_weights=False, verbose=True)"
   ]
  },
  {
   "cell_type": "code",
   "execution_count": null,
   "metadata": {},
   "outputs": [],
   "source": [
    "plt.plot(m.elbos)"
   ]
  },
  {
   "cell_type": "code",
   "execution_count": null,
   "metadata": {},
   "outputs": [],
   "source": [
    "from coloc.spike_and_slab_ser2 import MVNFactorSER\n",
    "m = MVNFactorSER(X=data['LD'], Y=data['zscores'], K=10)\n",
    "m.active = np.ones_like(m.active)\n",
    "%prun m.fit(max_iter=20, update_active=False, update_pi=True, update_weights=True, ARD_weights=True, verbose=True)"
   ]
  },
  {
   "cell_type": "code",
   "execution_count": null,
   "metadata": {},
   "outputs": [],
   "source": [
    "plt.plot(m.elbos)"
   ]
  },
  {
   "cell_type": "code",
   "execution_count": null,
   "metadata": {},
   "outputs": [],
   "source": [
    "m.plot_components()"
   ]
  },
  {
   "cell_type": "code",
   "execution_count": null,
   "metadata": {},
   "outputs": [],
   "source": [
    "m.get_credible_sets()"
   ]
  },
  {
   "cell_type": "code",
   "execution_count": null,
   "metadata": {},
   "outputs": [],
   "source": [
    "m.weight_means.shape"
   ]
  },
  {
   "cell_type": "code",
   "execution_count": null,
   "metadata": {},
   "outputs": [],
   "source": [
    "C = np.zeros((1000, 1000))\n",
    "for tissue in range(m.dims['T']):\n",
    "    for k1 in range(m.dims['K']):\n",
    "        for k2 in range(m.dims['K']):\n",
    "            if k1 != k2:\n",
    "                C += np.outer(m.weight_means[tissue, k1] * m.pi[k1], m.weight_means[tissue, k2] * m.pi[k2])\n",
    "            else:\n",
    "                C += np.diag((m.weight_means[tissue, k1]**2 + m.weight_vars[tissue, k1]) * m.pi[k1])\n",
    "                \n",
    "result = np.einsum('ij,ij->i', m.X, C).sum()"
   ]
  },
  {
   "cell_type": "code",
   "execution_count": null,
   "metadata": {},
   "outputs": [],
   "source": [
    "%%timeit\n",
    "np.einsum('ij,ij->i', m.X, C).sum()"
   ]
  },
  {
   "cell_type": "code",
   "execution_count": null,
   "metadata": {},
   "outputs": [],
   "source": [
    "%%timeit\n",
    "np.trace(m.X@C)"
   ]
  },
  {
   "cell_type": "code",
   "execution_count": null,
   "metadata": {},
   "outputs": [],
   "source": [
    "tissue = 0 \n",
    "a = m.active[tissue] @ ((m.pi * m.weight_means[tissue]) @ m.X)\n"
   ]
  },
  {
   "cell_type": "code",
   "execution_count": null,
   "metadata": {},
   "outputs": [],
   "source": [
    "m.active.shape, m.pi.shape, m.weight_means.shape, m.X.shape"
   ]
  },
  {
   "cell_type": "code",
   "execution_count": null,
   "metadata": {},
   "outputs": [],
   "source": [
    "pred = np.zeros_like(m.Y)\n",
    "for k in range(5):\n",
    "    active= m.active[:, k]\n",
    "    pi = m.pi[k]\n",
    "    weights = m.weight_means[:, k]\n",
    "    pred += active[:, None] * (pi * weights) @ m.X"
   ]
  },
  {
   "cell_type": "code",
   "execution_count": null,
   "metadata": {},
   "outputs": [],
   "source": [
    "pred"
   ]
  },
  {
   "cell_type": "code",
   "execution_count": null,
   "metadata": {},
   "outputs": [],
   "source": [
    "active[:, None] * (pi * weights) @ m.X"
   ]
  },
  {
   "cell_type": "code",
   "execution_count": null,
   "metadata": {},
   "outputs": [],
   "source": [
    "plt.plot(m.elbos)"
   ]
  },
  {
   "cell_type": "code",
   "execution_count": null,
   "metadata": {},
   "outputs": [],
   "source": [
    "m.plot_components()"
   ]
  },
  {
   "cell_type": "code",
   "execution_count": null,
   "metadata": {},
   "outputs": [],
   "source": [
    "cs, p = g.get_credible_sets()"
   ]
  },
  {
   "cell_type": "code",
   "execution_count": null,
   "metadata": {},
   "outputs": [],
   "source": [
    "g.plot_components()"
   ]
  },
  {
   "cell_type": "code",
   "execution_count": null,
   "metadata": {},
   "outputs": [],
   "source": [
    "m.get_credible_sets()"
   ]
  },
  {
   "cell_type": "code",
   "execution_count": null,
   "metadata": {},
   "outputs": [],
   "source": [
    "data['causal_snps']"
   ]
  },
  {
   "cell_type": "code",
   "execution_count": null,
   "metadata": {},
   "outputs": [],
   "source": [
    "%%time\n",
    "np.sum([m.weight_means[:, k][:, None] * m.pi[k] @ m.X for k in range(20)], 1)"
   ]
  },
  {
   "cell_type": "code",
   "execution_count": null,
   "metadata": {},
   "outputs": [],
   "source": [
    "%%time\n",
    "m.weight_means[:, 0][:, None] * m.pi[0] @ m.X"
   ]
  },
  {
   "cell_type": "code",
   "execution_count": null,
   "metadata": {},
   "outputs": [],
   "source": [
    "%%time\n",
    "m._compute_prediction()"
   ]
  },
  {
   "cell_type": "code",
   "execution_count": null,
   "metadata": {},
   "outputs": [],
   "source": [
    "m.Y.shape"
   ]
  },
  {
   "cell_type": "code",
   "execution_count": null,
   "metadata": {},
   "outputs": [],
   "source": [
    "g.plot_components()"
   ]
  },
  {
   "cell_type": "code",
   "execution_count": null,
   "metadata": {},
   "outputs": [],
   "source": [
    "m.plot_components()"
   ]
  },
  {
   "cell_type": "code",
   "execution_count": null,
   "metadata": {},
   "outputs": [],
   "source": [
    "g.X.shape"
   ]
  },
  {
   "cell_type": "code",
   "execution_count": null,
   "metadata": {},
   "outputs": [],
   "source": [
    "data['causal_snps']"
   ]
  },
  {
   "cell_type": "code",
   "execution_count": null,
   "metadata": {},
   "outputs": [],
   "source": [
    "g.pi.argmax(1)"
   ]
  },
  {
   "cell_type": "code",
   "execution_count": null,
   "metadata": {},
   "outputs": [],
   "source": [
    "cs, p = m.get_credible_sets()"
   ]
  },
  {
   "cell_type": "code",
   "execution_count": null,
   "metadata": {},
   "outputs": [],
   "source": [
    "cs"
   ]
  },
  {
   "cell_type": "code",
   "execution_count": null,
   "metadata": {},
   "outputs": [],
   "source": [
    "plt.scatter(\n",
    "    data['true_effects'][:, data['causal_snps'][1]],\n",
    "    g.weight_means[:, 0, data['causal_snps'][1]]\n",
    ")"
   ]
  },
  {
   "cell_type": "code",
   "execution_count": null,
   "metadata": {},
   "outputs": [],
   "source": [
    "plt.scatter(\n",
    "    data['true_effects'][:, data['causal_snps'][0]],\n",
    "    g.weight_means[:, 1, data['causal_snps'][0]]\n",
    ")"
   ]
  },
  {
   "cell_type": "code",
   "execution_count": null,
   "metadata": {},
   "outputs": [],
   "source": [
    "data['causal_snps']"
   ]
  },
  {
   "cell_type": "code",
   "execution_count": null,
   "metadata": {},
   "outputs": [],
   "source": [
    "g.pi[0].argmax()"
   ]
  },
  {
   "cell_type": "code",
   "execution_count": null,
   "metadata": {},
   "outputs": [],
   "source": [
    "g.weight_means[:, 0, data['causal_snps'][1]]"
   ]
  },
  {
   "cell_type": "code",
   "execution_count": null,
   "metadata": {},
   "outputs": [],
   "source": [
    "data = generate_data(cis_variants.values, 50, 0.2, 0.5)"
   ]
  },
  {
   "cell_type": "code",
   "execution_count": null,
   "metadata": {},
   "outputs": [],
   "source": [
    "from coloc.independent_model import IndependentFactorSER\n",
    "g = IndependentFactorSER(X=data['X'], Y=data['Y'], K=20)\n",
    "%prun g.fit(max_iter=5, update_active=False, update_pi=True, ARD_weights=True, update_variance=True, verbose=True)"
   ]
  },
  {
   "cell_type": "code",
   "execution_count": null,
   "metadata": {},
   "outputs": [],
   "source": [
    "g.plot_components()"
   ]
  },
  {
   "cell_type": "code",
   "execution_count": null,
   "metadata": {},
   "outputs": [],
   "source": [
    "tissue = 4\n",
    "k=0\n",
    "np.inner((g.weight_vars[tissue, k] + g.weight_means[tissue, k]**2), g.pi[k]) * g.active[tissue, k]"
   ]
  },
  {
   "cell_type": "code",
   "execution_count": null,
   "metadata": {},
   "outputs": [],
   "source": [
    "g.prior_variance.shape"
   ]
  },
  {
   "cell_type": "code",
   "execution_count": null,
   "metadata": {},
   "outputs": [],
   "source": [
    "(g.weight_vars[:, k] + g.weight_means[:, k]**2) @ g.pi[k] * g.active[:, k]"
   ]
  },
  {
   "cell_type": "code",
   "execution_count": null,
   "metadata": {},
   "outputs": [],
   "source": [
    "g.plot_components()"
   ]
  },
  {
   "cell_type": "code",
   "execution_count": null,
   "metadata": {},
   "outputs": [],
   "source": [
    "from coloc.independent_model import IndependentFactorSER\n",
    "g = IndependentFactorSER(X=data['X'], Y=data['Y'], K=20)\n",
    "g.active = np.ones_like(g.active)\n",
    "%prun g.fit(max_iter=5, update_active=False, update_pi=True, ARD_weights=True, update_variance=True, verbose=True)"
   ]
  },
  {
   "cell_type": "code",
   "execution_count": null,
   "metadata": {},
   "outputs": [],
   "source": [
    "g.plot_components()"
   ]
  },
  {
   "cell_type": "code",
   "execution_count": null,
   "metadata": {},
   "outputs": [],
   "source": [
    "data.keys()"
   ]
  },
  {
   "cell_type": "code",
   "execution_count": null,
   "metadata": {},
   "outputs": [],
   "source": [
    "data['true_effects'][:, data['causal_snps']]"
   ]
  },
  {
   "cell_type": "code",
   "execution_count": null,
   "metadata": {},
   "outputs": [],
   "source": [
    "r_k = g.compute_residual(k)\n",
    "for tissue in range(g.dims['T']):\n",
    "    if False:\n",
    "        g.prior_variance[tissue, k] = np.inner(\n",
    "            (g.weight_vars[tissue, k] + g.weight_means[tissue, k]**2), g.pi[k]) * g.active[tissue, k]\n",
    "\n",
    "    mask = ~np.isnan(g.Y[tissue])\n",
    "    diag = np.einsum('ij, ij->i', g.X[:, mask], g.X[:, mask])\n",
    "\n",
    "    precision = (diag / g.tissue_variance[tissue]) + (1 / g.prior_variance[tissue, k])\n",
    "    variance = 1 / precision\n",
    "    mean = (variance / g.tissue_variance[tissue]) * (g.X[:, mask] @ r_k[tissue, mask].T)"
   ]
  },
  {
   "cell_type": "code",
   "execution_count": null,
   "metadata": {},
   "outputs": [],
   "source": [
    "mask = np.isnan(g.Y)\n",
    "diag = np.array([g._get_diag(t) for t in range(g.dims['T'])])\n",
    "\n",
    "r_k = g.compute_residual(k)\n",
    "r_k[mask] = 0\n",
    "\n",
    "precision = (diag / g.tissue_variance[:, None]) + (1 / g.prior_variance[:, k])[:, None]\n",
    "variance = 1 / precision\n",
    "mean = (variance / g.tissue_variance[:, None]) * (r_k @ g.X.T)"
   ]
  },
  {
   "cell_type": "code",
   "execution_count": null,
   "metadata": {},
   "outputs": [],
   "source": [
    "mean"
   ]
  },
  {
   "cell_type": "code",
   "execution_count": null,
   "metadata": {},
   "outputs": [],
   "source": [
    "mean1[1]"
   ]
  },
  {
   "cell_type": "markdown",
   "metadata": {},
   "source": []
  },
  {
   "cell_type": "code",
   "execution_count": null,
   "metadata": {},
   "outputs": [],
   "source": [
    "np.allclose(g._compute_prediction(3), g._compute_prediction2(3))"
   ]
  },
  {
   "cell_type": "code",
   "execution_count": null,
   "metadata": {},
   "outputs": [],
   "source": [
    "g._compute_prediction2()"
   ]
  },
  {
   "cell_type": "code",
   "execution_count": null,
   "metadata": {},
   "outputs": [],
   "source": [
    "g.fit(max_iter=5, update_active=False, update_pi=True, ARD_weights=True, update_variance=True, verbose=True)"
   ]
  },
  {
   "cell_type": "code",
   "execution_count": null,
   "metadata": {},
   "outputs": [],
   "source": [
    "g._compute_second_moment.cache_info()"
   ]
  },
  {
   "cell_type": "code",
   "execution_count": null,
   "metadata": {},
   "outputs": [],
   "source": [
    "a = g._compute_prediction()\n",
    "b = np.array([g.compute_first_moment(k) for k in range(20)]).sum(0)\n",
    "np.allclose(a, b)"
   ]
  },
  {
   "cell_type": "code",
   "execution_count": null,
   "metadata": {},
   "outputs": [],
   "source": [
    "g.dims"
   ]
  },
  {
   "cell_type": "code",
   "execution_count": null,
   "metadata": {},
   "outputs": [],
   "source": [
    "np.array([g.compute_first_moment(k) for k in range(20)]).sum(0)"
   ]
  },
  {
   "cell_type": "code",
   "execution_count": null,
   "metadata": {},
   "outputs": [],
   "source": [
    "%prun g.compute_residual()"
   ]
  },
  {
   "cell_type": "code",
   "execution_count": null,
   "metadata": {},
   "outputs": [],
   "source": [
    "g._compute_first_moment.cache_info()"
   ]
  },
  {
   "cell_type": "code",
   "execution_count": null,
   "metadata": {},
   "outputs": [],
   "source": [
    "data['causal_snps']"
   ]
  },
  {
   "cell_type": "code",
   "execution_count": null,
   "metadata": {},
   "outputs": [],
   "source": [
    "cs[0], cs[1]"
   ]
  },
  {
   "cell_type": "code",
   "execution_count": null,
   "metadata": {},
   "outputs": [],
   "source": [
    "g._compute_ERSS()"
   ]
  },
  {
   "cell_type": "code",
   "execution_count": null,
   "metadata": {},
   "outputs": [],
   "source": [
    "g.compute_first_moment(0);"
   ]
  },
  {
   "cell_type": "code",
   "execution_count": null,
   "metadata": {},
   "outputs": [],
   "source": [
    "g._compute_first_moment.cache_info()"
   ]
  },
  {
   "cell_type": "code",
   "execution_count": null,
   "metadata": {},
   "outputs": [],
   "source": [
    "from coloc.kls import normal_kl\n",
    "k=1\n",
    "r_k = g.compute_residual(k)\n",
    "pi_k = np.zeros(g.dims['N'])\n",
    "for tissue in range(g.dims['T']):\n",
    "    mask = g._get_mask(tissue)\n",
    "    diag = g._get_diag(tissue)\n",
    "    tmp1 = (-0.5 / g.tissue_variance[tissue]) * (\n",
    "        - 2 * r_k[tissue, mask] @ (g.weight_means[tissue, k] * g.X[:, mask].T)\n",
    "        + g.weight_means[tissue, k] ** 2 * diag\n",
    "    )\n",
    "    tmp2 = -0.5 * (1 / g.tissue_variance[tissue]) * (g.weight_vars[tissue, k]) * diag\n",
    "    tmp3 = -1 * normal_kl(g.weight_means[tissue, k], g.weight_vars[tissue, k], 0.0, g.prior_variance[tissue, k])\n",
    "    pi_k += (tmp1 + tmp2 + tmp3) * g.active[tissue, k]\n",
    "pi_k += np.log(g.prior_pi)\n",
    "\n",
    "# normalize to probabilities\n",
    "pi_k = np.exp(pi_k - pi_k.max())\n",
    "pi_k = pi_k / pi_k.sum()"
   ]
  },
  {
   "cell_type": "code",
   "execution_count": null,
   "metadata": {},
   "outputs": [],
   "source": [
    "pi_k.shape"
   ]
  },
  {
   "cell_type": "code",
   "execution_count": null,
   "metadata": {},
   "outputs": [],
   "source": [
    "from scipy.stats import norm"
   ]
  },
  {
   "cell_type": "code",
   "execution_count": null,
   "metadata": {},
   "outputs": [],
   "source": [
    "g.dims"
   ]
  },
  {
   "cell_type": "code",
   "execution_count": null,
   "metadata": {},
   "outputs": [],
   "source": [
    "r_k.shape"
   ]
  },
  {
   "cell_type": "code",
   "execution_count": null,
   "metadata": {},
   "outputs": [],
   "source": [
    "%%timeit\n",
    "mask = g._get_mask(tissue)\n",
    "diag = g._get_diag(tissue)\n",
    "tmp1 = (-0.5 / g.tissue_variance[tissue]) * (\n",
    "    - 2 * r_k[tissue, mask] @ (g.weight_means[tissue, k] * g.X[:, mask].T)\n",
    "    + g.weight_means[tissue, k] ** 2 * diag\n",
    ")"
   ]
  },
  {
   "cell_type": "code",
   "execution_count": null,
   "metadata": {},
   "outputs": [],
   "source": [
    "%%timeit\n",
    "mask = g._get_mask(tissue)\n",
    "diag = g._get_diag(tissue)\n",
    "tmp1b = (-0.5 / g.tissue_variance[tissue]) * (\n",
    "    - 2 * r_k[tissue, mask] @ (g.X[:, mask].T) * g.weight_means[tissue, k]\n",
    "    + g.weight_means[tissue, k] ** 2 * diag\n",
    ")"
   ]
  },
  {
   "cell_type": "code",
   "execution_count": null,
   "metadata": {},
   "outputs": [],
   "source": [
    "g.Y[g.Y > 0] = np.nan"
   ]
  },
  {
   "cell_type": "code",
   "execution_count": null,
   "metadata": {},
   "outputs": [],
   "source": [
    "mask = g._get_mask(0)"
   ]
  },
  {
   "cell_type": "code",
   "execution_count": null,
   "metadata": {},
   "outputs": [],
   "source": [
    "r_k = g.compute_residual(k)"
   ]
  },
  {
   "cell_type": "code",
   "execution_count": null,
   "metadata": {},
   "outputs": [],
   "source": [
    "(r_k[0, mask] @ g.X[:, mask].T)"
   ]
  },
  {
   "cell_type": "code",
   "execution_count": null,
   "metadata": {},
   "outputs": [],
   "source": [
    "r_k[np.isnan(g.Y)] = 0\n",
    "r_k @ g.X.T"
   ]
  },
  {
   "cell_type": "code",
   "execution_count": null,
   "metadata": {},
   "outputs": [],
   "source": [
    "from coloc.kls import normal_kl\n",
    "k=0\n",
    "mask = g._get_mask(k)\n",
    "diag = np.array([g._get_diag(t) for t in range(g.dims['T'])])"
   ]
  },
  {
   "cell_type": "code",
   "execution_count": null,
   "metadata": {},
   "outputs": [],
   "source": [
    "%%time\n",
    "r_k = g.compute_residual(k)\n",
    "r_k[np.isnan(g.Y)] = 0\n",
    "tmp1c = (-0.5 / g.tissue_variance[:, None]) * (\n",
    "    - 2 * r_k @ (g.X.T) * g.weight_means[:, k]\n",
    "    + g.weight_means[:, k] ** 2 * diag\n",
    ")\n",
    "tmp2c = -0.5 * (1 / g.tissue_variance[:, None]) * (g.weight_vars[:, k]) * diag\n",
    "tmp3c = -1 * normal_kl(g.weight_means[:, k], g.weight_vars[:, k], 0.0, g.prior_variance[:, k][:, None])\n",
    "pi_k = (tmp1c + tmp2c + tmp3c) * g.active[:, k][:, None]\n",
    "\n",
    "pi_k = pi_k.sum(0)\n",
    "pi_k += np.log(g.prior_pi)\n",
    "pi_k = np.exp(pi_k - pi_k.max())\n",
    "pi_k = pi_k / pi_k.sum()"
   ]
  },
  {
   "cell_type": "code",
   "execution_count": null,
   "metadata": {},
   "outputs": [],
   "source": [
    "%%time\n",
    "r_k = g.compute_residual(k)\n",
    "r_k[np.isnan(g.Y)] = 0\n",
    "pi_k2 = np.zeros((g.dims['N']))\n",
    "for tissue in range(g.dims['T']):\n",
    "    mask = g._get_mask(tissue)\n",
    "    diag = g._get_diag(tissue)\n",
    "    tmp1 = (-0.5 / g.tissue_variance[tissue]) * (\n",
    "        - 2 * r_k[tissue, mask] @ (g.weight_means[tissue, k] * g.X[:, mask].T)\n",
    "        + g.weight_means[tissue, k] ** 2 * diag\n",
    "    )\n",
    "    tmp2 = -0.5 * (1 / g.tissue_variance[tissue]) * (g.weight_vars[tissue, k]) * diag\n",
    "    tmp3 = -1 * normal_kl(g.weight_means[tissue, k], g.weight_vars[tissue, k], 0.0, g.prior_variance[tissue, k])\n",
    "    pi_k2 += (tmp1 + tmp2 + tmp3) * g.active[tissue, k]\n",
    "\n",
    "pi_k2 += np.log(g.prior_pi)\n",
    "pi_k2 = np.exp(pi_k2 - pi_k2.max())\n",
    "pi_k2 = pi_k2 / pi_k2.sum()"
   ]
  },
  {
   "cell_type": "code",
   "execution_count": null,
   "metadata": {},
   "outputs": [],
   "source": [
    "diag"
   ]
  },
  {
   "cell_type": "code",
   "execution_count": null,
   "metadata": {},
   "outputs": [],
   "source": [
    "np.allclose(pi_k, pi_k2)"
   ]
  },
  {
   "cell_type": "code",
   "execution_count": null,
   "metadata": {},
   "outputs": [],
   "source": [
    "pi_k.sum(0)\n",
    "pi_k += np.log(g.prior_pi)\n",
    "pi_k = np.exp(pi_k - pi_k.max())\n",
    "pi_k = pi_k / pi_k.sum()"
   ]
  },
  {
   "cell_type": "code",
   "execution_count": null,
   "metadata": {},
   "outputs": [],
   "source": [
    "pi_k"
   ]
  },
  {
   "cell_type": "code",
   "execution_count": null,
   "metadata": {},
   "outputs": [],
   "source": [
    "g._update_active_component(k)\n",
    "g.pi[k]"
   ]
  },
  {
   "cell_type": "code",
   "execution_count": null,
   "metadata": {},
   "outputs": [],
   "source": [
    "tmp1c[tissue]\n"
   ]
  },
  {
   "cell_type": "code",
   "execution_count": null,
   "metadata": {},
   "outputs": [],
   "source": [
    "tmp1"
   ]
  },
  {
   "cell_type": "code",
   "execution_count": null,
   "metadata": {},
   "outputs": [],
   "source": [
    "tmp1b"
   ]
  },
  {
   "cell_type": "code",
   "execution_count": null,
   "metadata": {},
   "outputs": [],
   "source": [
    "((g.weight_means[:, k][..., None] * g.X[None]) @ r_k.T).shape"
   ]
  },
  {
   "cell_type": "code",
   "execution_count": null,
   "metadata": {},
   "outputs": [],
   "source": [
    "norm.logpdf(r_k).shape"
   ]
  },
  {
   "cell_type": "code",
   "execution_count": null,
   "metadata": {},
   "outputs": [],
   "source": [
    "%%prun\n",
    "residual = g.ge(0)"
   ]
  },
  {
   "cell_type": "code",
   "execution_count": null,
   "metadata": {},
   "outputs": [],
   "source": [
    "mu2 = (g.pi[component]\n",
    "       * (g.weight_means[tissue, component]**2 + g.weight_vars[tissue, component])\n",
    "       * g.active[tissue, component]) @ (g.X[:, mask]**2)\n"
   ]
  },
  {
   "cell_type": "code",
   "execution_count": null,
   "metadata": {},
   "outputs": [],
   "source": [
    "mu = (g.pi[component]\n",
    "      * g.weight_means[:, component]\n",
    "      * g.active[:, component][:, None]) @ g.X[:, mask]"
   ]
  },
  {
   "cell_type": "code",
   "execution_count": null,
   "metadata": {},
   "outputs": [],
   "source": [
    "g.compute_prediction(0)"
   ]
  },
  {
   "cell_type": "code",
   "execution_count": null,
   "metadata": {},
   "outputs": [],
   "source": [
    "g.compute_moments(0)"
   ]
  },
  {
   "cell_type": "code",
   "execution_count": null,
   "metadata": {},
   "outputs": [],
   "source": [
    "np.allclose(mu, np.array([g.compute_first_moment(t, component) for t in range(50)]))"
   ]
  },
  {
   "cell_type": "code",
   "execution_count": null,
   "metadata": {},
   "outputs": [],
   "source": [
    "g._compute_prediction_component_cache.cache_info()"
   ]
  },
  {
   "cell_type": "code",
   "execution_count": null,
   "metadata": {},
   "outputs": [],
   "source": [
    "np.allclose(ERSSs, g._compute_ERSS())"
   ]
  },
  {
   "cell_type": "code",
   "execution_count": null,
   "metadata": {},
   "outputs": [],
   "source": [
    "g.plot_components()"
   ]
  },
  {
   "cell_type": "code",
   "execution_count": null,
   "metadata": {},
   "outputs": [],
   "source": [
    "cs, p = g.get_credible_sets()"
   ]
  },
  {
   "cell_type": "code",
   "execution_count": null,
   "metadata": {},
   "outputs": [],
   "source": [
    "data['causal_snps']"
   ]
  },
  {
   "cell_type": "code",
   "execution_count": null,
   "metadata": {},
   "outputs": [],
   "source": [
    "p"
   ]
  },
  {
   "cell_type": "code",
   "execution_count": null,
   "metadata": {},
   "outputs": [],
   "source": [
    "cs"
   ]
  },
  {
   "cell_type": "code",
   "execution_count": null,
   "metadata": {},
   "outputs": [],
   "source": [
    "g.plot_credible_sets_ld()"
   ]
  },
  {
   "cell_type": "code",
   "execution_count": null,
   "metadata": {},
   "outputs": [],
   "source": [
    "[(g._update_weight_component(k), g._update_pi_component(k)) for k in range(20)]"
   ]
  },
  {
   "cell_type": "code",
   "execution_count": null,
   "metadata": {},
   "outputs": [],
   "source": [
    "def var(a, b):\n",
    "    return np.sum(b - a**2)"
   ]
  },
  {
   "cell_type": "code",
   "execution_count": null,
   "metadata": {},
   "outputs": [],
   "source": [
    "g._update_tissue_variance()\n",
    "g.tissue_variance"
   ]
  },
  {
   "cell_type": "code",
   "execution_count": null,
   "metadata": {},
   "outputs": [],
   "source": [
    "%%time\n",
    "g._compute_ERSS() / g.Y.shape[1]"
   ]
  },
  {
   "cell_type": "code",
   "execution_count": null,
   "metadata": {},
   "outputs": [],
   "source": [
    "g.compute_elbo()"
   ]
  },
  {
   "cell_type": "code",
   "execution_count": null,
   "metadata": {},
   "outputs": [],
   "source": [
    "residual = g.compute_residual()"
   ]
  },
  {
   "cell_type": "code",
   "execution_count": null,
   "metadata": {},
   "outputs": [],
   "source": [
    "np.sum([[g.compute_moments(t, k)[0]**2 for t in range(10)] for k in range(10)])"
   ]
  },
  {
   "cell_type": "code",
   "execution_count": null,
   "metadata": {},
   "outputs": [],
   "source": [
    "%%prun\n",
    "((g.pi[None] * g.weight_means[:, :] * g.active[:, :, None] @ g.X)**2).sum()"
   ]
  },
  {
   "cell_type": "code",
   "execution_count": null,
   "metadata": {},
   "outputs": [],
   "source": [
    "(g.compute_prediction(use_covariates=)[~np.isnan(g.Y)]**2).sum()"
   ]
  },
  {
   "cell_type": "code",
   "execution_count": null,
   "metadata": {},
   "outputs": [],
   "source": [
    "g._compute_covariate_prediction()"
   ]
  },
  {
   "cell_type": "code",
   "execution_count": null,
   "metadata": {},
   "outputs": [],
   "source": [
    "g._update_tissue_variance()\n",
    "g.tissue_variance"
   ]
  },
  {
   "cell_type": "code",
   "execution_count": null,
   "metadata": {},
   "outputs": [],
   "source": [
    "g.X.shape"
   ]
  },
  {
   "cell_type": "code",
   "execution_count": null,
   "metadata": {},
   "outputs": [],
   "source": [
    "%%prun\n",
    "g.fit(max_iter=10, update_active=False, update_variance=False, verbose=True)"
   ]
  },
  {
   "cell_type": "code",
   "execution_count": null,
   "metadata": {},
   "outputs": [],
   "source": [
    "plt.plot(g.elbos[1:])"
   ]
  },
  {
   "cell_type": "code",
   "execution_count": null,
   "metadata": {},
   "outputs": [],
   "source": [
    "g.plot_components()"
   ]
  },
  {
   "cell_type": "code",
   "execution_count": null,
   "metadata": {},
   "outputs": [],
   "source": [
    "cs, p = m.get_credible_sets()"
   ]
  },
  {
   "cell_type": "code",
   "execution_count": null,
   "metadata": {},
   "outputs": [],
   "source": [
    "data.keys()"
   ]
  },
  {
   "cell_type": "code",
   "execution_count": null,
   "metadata": {},
   "outputs": [],
   "source": [
    "g.get_expected_weights()[:, :2]"
   ]
  },
  {
   "cell_type": "code",
   "execution_count": null,
   "metadata": {},
   "outputs": [],
   "source": [
    "plt.scatter(\n",
    "    g.weight_means[:, [0, 1], data['causal_snps']],\n",
    "    data['true_effects'][:, data['causal_snps']]\n",
    ")\n",
    "\n",
    "plt.scatter(\n",
    "    g.get_expected_weights()[:, :2],\n",
    "    data['true_effects'][:, data['causal_snps']]\n",
    ")"
   ]
  },
  {
   "cell_type": "code",
   "execution_count": null,
   "metadata": {},
   "outputs": [],
   "source": [
    "cs[0], cs[1], cs[2]"
   ]
  },
  {
   "cell_type": "code",
   "execution_count": null,
   "metadata": {},
   "outputs": [],
   "source": [
    "p"
   ]
  },
  {
   "cell_type": "code",
   "execution_count": null,
   "metadata": {},
   "outputs": [],
   "source": [
    "g._get_diag.cache_info()"
   ]
  },
  {
   "cell_type": "code",
   "execution_count": null,
   "metadata": {},
   "outputs": [],
   "source": [
    "g._compute_first_moment.cache_info()"
   ]
  },
  {
   "cell_type": "code",
   "execution_count": null,
   "metadata": {},
   "outputs": [],
   "source": [
    "g._compute_second_moment.cache_info()"
   ]
  },
  {
   "cell_type": "code",
   "execution_count": null,
   "metadata": {},
   "outputs": [],
   "source": [
    "g.dims"
   ]
  },
  {
   "cell_type": "code",
   "execution_count": null,
   "metadata": {},
   "outputs": [],
   "source": [
    "%%prun\n",
    "mu, mu2 = g._compute_moments(1, 0)\n",
    "print(g._compute_second_moment.cache_info())"
   ]
  },
  {
   "cell_type": "code",
   "execution_count": null,
   "metadata": {},
   "outputs": [],
   "source": [
    "%%time\n",
    "g._compute_prediction()"
   ]
  },
  {
   "cell_type": "code",
   "execution_count": null,
   "metadata": {},
   "outputs": [],
   "source": [
    "tuple(a for a in range(10))"
   ]
  },
  {
   "cell_type": "code",
   "execution_count": null,
   "metadata": {},
   "outputs": [],
   "source": [
    "%%timeit\n",
    "mu, mu2 = g._compute_moments(2, 2)"
   ]
  },
  {
   "cell_type": "code",
   "execution_count": null,
   "metadata": {},
   "outputs": [],
   "source": [
    "_compute_first_moment.cache_info()"
   ]
  },
  {
   "cell_type": "code",
   "execution_count": null,
   "metadata": {},
   "outputs": [],
   "source": [
    "%%prun\n",
    "mu, mu2 = g._compute_moments(1, 1)"
   ]
  },
  {
   "cell_type": "code",
   "execution_count": null,
   "metadata": {},
   "outputs": [],
   "source": [
    "%%prun\n",
    "g._compute_prediction()"
   ]
  },
  {
   "cell_type": "code",
   "execution_count": null,
   "metadata": {},
   "outputs": [],
   "source": [
    "from coloc.independent_model import _compute_first_moment"
   ]
  },
  {
   "cell_type": "code",
   "execution_count": null,
   "metadata": {},
   "outputs": [],
   "source": [
    "_compute_first_moment.cache_info()"
   ]
  },
  {
   "cell_type": "code",
   "execution_count": null,
   "metadata": {},
   "outputs": [],
   "source": [
    "%%time\n",
    "a = g.X.tobytes()"
   ]
  },
  {
   "cell_type": "code",
   "execution_count": null,
   "metadata": {},
   "outputs": [],
   "source": [
    "g._compute_first_moment.cache_info()"
   ]
  },
  {
   "cell_type": "code",
   "execution_count": null,
   "metadata": {},
   "outputs": [],
   "source": [
    "%%time\n",
    "mu, mu2 = g._compute_moments(1, 0)"
   ]
  },
  {
   "cell_type": "code",
   "execution_count": null,
   "metadata": {},
   "outputs": [],
   "source": [
    "%%timeit\n",
    "mu, mu2 = g._compute_moments(1, 0)"
   ]
  },
  {
   "cell_type": "code",
   "execution_count": null,
   "metadata": {},
   "outputs": [],
   "source": [
    "%%time\n",
    "mu, mu2 = g._compute_moments(0, 1)"
   ]
  },
  {
   "cell_type": "code",
   "execution_count": null,
   "metadata": {},
   "outputs": [],
   "source": [
    "%%prun\n",
    "g.fit(max_iter=10, verbose=True, update_active=False, ARD_weights=False, update_variance=True)"
   ]
  },
  {
   "cell_type": "code",
   "execution_count": null,
   "metadata": {},
   "outputs": [],
   "source": [
    "g._compute_first_moment.cache_info()"
   ]
  },
  {
   "cell_type": "code",
   "execution_count": null,
   "metadata": {},
   "outputs": [],
   "source": [
    "from coloc.utils import array_to_hashable, hashable_to_array"
   ]
  },
  {
   "cell_type": "code",
   "execution_count": null,
   "metadata": {},
   "outputs": [],
   "source": [
    "a = np.random.random((10, 10))\n",
    "b = np.random.random((50, 2))\n",
    "c = np.random.random((12))"
   ]
  },
  {
   "cell_type": "code",
   "execution_count": null,
   "metadata": {},
   "outputs": [],
   "source": [
    "d, e, f = hashable_to_array(array_to_hasable(a, b, c))"
   ]
  },
  {
   "cell_type": "code",
   "execution_count": null,
   "metadata": {},
   "outputs": [],
   "source": [
    "np.all(d == a), np.all(e == b), np.all(f == c)"
   ]
  },
  {
   "cell_type": "code",
   "execution_count": null,
   "metadata": {},
   "outputs": [],
   "source": [
    "%%time\n",
    "g._compute_prediction()"
   ]
  },
  {
   "cell_type": "code",
   "execution_count": null,
   "metadata": {},
   "outputs": [],
   "source": [
    "np.array([g._compute_first_moment(0, k) for k in range(4)])"
   ]
  },
  {
   "cell_type": "code",
   "execution_count": null,
   "metadata": {},
   "outputs": [],
   "source": [
    "from functools import lru_cache, wraps\n",
    "import numpy as np\n",
    "\n",
    "def np_cache(*args, **kwargs):\n",
    "    \"\"\"\n",
    "    LRU cache implementation for functions whose FIRST parameter is a numpy array\n",
    "    \"\"\"\n",
    "    def decorator(function):\n",
    "        @wraps(function)\n",
    "        def wrapper(np_array, *args, **kwargs):\n",
    "            hashable_array = array_to_tuple(np_array)\n",
    "            return cached_wrapper(hashable_array, *args, **kwargs)\n",
    "\n",
    "        @lru_cache(*args, **kwargs)\n",
    "        def cached_wrapper(hashable_array, *args, **kwargs):\n",
    "            array = np.array(hashable_array)\n",
    "            return function(array, *args, **kwargs)\n",
    "\n",
    "        def array_to_tuple(np_array):\n",
    "            \"\"\"Iterates recursivelly.\"\"\"\n",
    "            try:\n",
    "                return tuple(array_to_tuple(_) for _ in np_array)\n",
    "            except TypeError:\n",
    "                return np_array\n",
    "\n",
    "        # copy lru_cache attributes over too\n",
    "        wrapper.cache_info = cached_wrapper.cache_info\n",
    "        wrapper.cache_clear = cached_wrapper.cache_clear\n",
    "        return wrapper\n",
    "    return decorator"
   ]
  },
  {
   "cell_type": "code",
   "execution_count": null,
   "metadata": {},
   "outputs": [],
   "source": [
    "def pack(*args):\n",
    "    \"\"\"\n",
    "    take a list of numpy arrays, pack them into a single array\n",
    "    return single flat numpy array\n",
    "    return list of shape tuples for unpacking\n",
    "    \"\"\"\n",
    "    \n",
    "    flat = np.concatenate([x.flatten() for x in args])\n",
    "    \n",
    "    size = [0]\n",
    "    size.extend([x.size for x in args])\n",
    "    size = list(np.cumsum(size))\n",
    "    \n",
    "    shapes = [x.shape for x in args]\n",
    "    \n",
    "    return flat, size, shapes\n",
    "\n",
    "def unpack(flat, size, shape):\n",
    "    return (flat[size[i]:size[i+1]].reshape(shape[i]) for i in range(len(shape)))"
   ]
  },
  {
   "cell_type": "code",
   "execution_count": null,
   "metadata": {},
   "outputs": [],
   "source": [
    "a = np.random.random((10, 3))\n",
    "b = np.random.random(5)\n",
    "c = np.array(1.0)\n",
    "d = np.random.random((3, 6))\n",
    "flat, size, shape = pack(a, b, c, d)"
   ]
  },
  {
   "cell_type": "code",
   "execution_count": null,
   "metadata": {},
   "outputs": [],
   "source": [
    "a1, b1, c1, d1 = unpack(flat, size, shape)"
   ]
  },
  {
   "cell_type": "code",
   "execution_count": null,
   "metadata": {},
   "outputs": [],
   "source": [
    "a1 == a"
   ]
  },
  {
   "cell_type": "code",
   "execution_count": null,
   "metadata": {},
   "outputs": [],
   "source": [
    "b1 == b"
   ]
  },
  {
   "cell_type": "code",
   "execution_count": null,
   "metadata": {},
   "outputs": [],
   "source": [
    "c1 == c"
   ]
  },
  {
   "cell_type": "code",
   "execution_count": null,
   "metadata": {},
   "outputs": [],
   "source": [
    "g.active[0, 0].shape"
   ]
  },
  {
   "cell_type": "code",
   "execution_count": null,
   "metadata": {},
   "outputs": [],
   "source": [
    "shape"
   ]
  },
  {
   "cell_type": "code",
   "execution_count": null,
   "metadata": {},
   "outputs": [],
   "source": [
    "from time import sleep\n",
    "\n",
    "@np_cache()\n",
    "def test_func(a):\n",
    "    sleep(1.0)"
   ]
  },
  {
   "cell_type": "code",
   "execution_count": null,
   "metadata": {},
   "outputs": [],
   "source": [
    "%%time\n",
    "test_func(np.zeros(4))"
   ]
  },
  {
   "cell_type": "code",
   "execution_count": null,
   "metadata": {},
   "outputs": [],
   "source": [
    "g = IndependentFactorSER(X=data['X'], Y=data['Y'], K=4)\n",
    "s = MVNFactorSER(X=data['LD'], Y=['zscores'], K=4)\n",
    "ss = SimpleMVNFactorSER(X=data['LD'], Y=['zscores'], K=4)"
   ]
  },
  {
   "cell_type": "code",
   "execution_count": null,
   "metadata": {},
   "outputs": [],
   "source": []
  },
  {
   "cell_type": "code",
   "execution_count": null,
   "metadata": {},
   "outputs": [],
   "source": [
    "g.prior_activity = np.ones_like(g.prior_activity) * 0.9"
   ]
  },
  {
   "cell_type": "code",
   "execution_count": null,
   "metadata": {},
   "outputs": [],
   "source": [
    "%%time\n",
    "g.fit(max_iter=100, verbose=True, update_active=True, ARD_weights=False, update_variance=False)"
   ]
  },
  {
   "cell_type": "code",
   "execution_count": null,
   "metadata": {},
   "outputs": [],
   "source": [
    "%%prun\n",
    "g.fit(max_iter=50, update_variance=False, update_active=False, verbose=True)"
   ]
  },
  {
   "cell_type": "code",
   "execution_count": null,
   "metadata": {},
   "outputs": [],
   "source": [
    "hash(g.weight_means.tostring())"
   ]
  },
  {
   "cell_type": "code",
   "execution_count": null,
   "metadata": {},
   "outputs": [],
   "source": [
    "g._compute_first_moment.cache_info()"
   ]
  },
  {
   "cell_type": "code",
   "execution_count": null,
   "metadata": {},
   "outputs": [],
   "source": [
    "g._compute_moments(0, 0)[0].shape"
   ]
  },
  {
   "cell_type": "code",
   "execution_count": null,
   "metadata": {},
   "outputs": [],
   "source": [
    "%%prun\n",
    "g.compute_elbo()"
   ]
  },
  {
   "cell_type": "code",
   "execution_count": null,
   "metadata": {},
   "outputs": [],
   "source": [
    "%%prun\n",
    "mu, mu2 = g._compute_moments(0, 0)"
   ]
  },
  {
   "cell_type": "code",
   "execution_count": null,
   "metadata": {},
   "outputs": [],
   "source": [
    "g.dims"
   ]
  },
  {
   "cell_type": "code",
   "execution_count": null,
   "metadata": {},
   "outputs": [],
   "source": [
    "data['tissue_variance'], g.tissue_variance"
   ]
  },
  {
   "cell_type": "code",
   "execution_count": null,
   "metadata": {},
   "outputs": [],
   "source": [
    "a = g.pi[0, cs[0]]\n",
    "a"
   ]
  },
  {
   "cell_type": "code",
   "execution_count": null,
   "metadata": {},
   "outputs": [],
   "source": [
    "b = g.weight_means[0, 0, cs[0]]\n",
    "b"
   ]
  },
  {
   "cell_type": "code",
   "execution_count": null,
   "metadata": {},
   "outputs": [],
   "source": [
    "np.inner(a, b)"
   ]
  },
  {
   "cell_type": "code",
   "execution_count": null,
   "metadata": {},
   "outputs": [],
   "source": [
    "data['true_effects'][:, data['causal_snps']], g.get_expected_weights()"
   ]
  },
  {
   "cell_type": "code",
   "execution_count": null,
   "metadata": {},
   "outputs": [],
   "source": [
    "g.get_credible_sets()"
   ]
  },
  {
   "cell_type": "code",
   "execution_count": null,
   "metadata": {},
   "outputs": [],
   "source": [
    "data = {\n",
    "    'LD': LD,\n",
    "    'X': X,\n",
    "    'Y': expression,\n",
    "    'zscores': slopes/std_errs,\n",
    "    'causal_snps': causal_snps,\n",
    "    'true_effects': true_effects\n",
    "}"
   ]
  },
  {
   "cell_type": "code",
   "execution_count": null,
   "metadata": {},
   "outputs": [],
   "source": [
    "plt.scatter(np.arange(N), true_effects[2])"
   ]
  },
  {
   "cell_type": "code",
   "execution_count": null,
   "metadata": {},
   "outputs": [],
   "source": [
    "plt.scatter(np.arange(N), (slopes/std_errs)[1])\n",
    "plt.scatter(np.arange(N)[causal_snps], (slopes/std_errs)[1, causal_snps])"
   ]
  },
  {
   "cell_type": "code",
   "execution_count": null,
   "metadata": {},
   "outputs": [],
   "source": [
    "stats.norm.cdf(-np.abs(slopes/std_errs)) * 2"
   ]
  },
  {
   "cell_type": "code",
   "execution_count": null,
   "metadata": {},
   "outputs": [],
   "source": [
    "p_values"
   ]
  },
  {
   "cell_type": "code",
   "execution_count": null,
   "metadata": {},
   "outputs": [],
   "source": [
    "true_effects = np.zeros(N)\n",
    "true_effects[causal_snps[0]] = np.abs(np.random.normal(size=1) * 0.6)\n",
    "\n",
    "v = np.var(true_effects @ X)\n",
    "sigma2 = v/0.01 - v"
   ]
  },
  {
   "cell_type": "code",
   "execution_count": null,
   "metadata": {},
   "outputs": [],
   "source": [
    "X.shape"
   ]
  },
  {
   "cell_type": "code",
   "execution_count": null,
   "metadata": {},
   "outputs": [],
   "source": [
    "true_effects.shape"
   ]
  },
  {
   "cell_type": "code",
   "execution_count": null,
   "metadata": {},
   "outputs": [],
   "source": [
    "x = X[causal_snps[0]]\n",
    "y = (true_effects @ X) + np.random.normal(size=M) * np.sqrt(sigma2)\n",
    "slope, intercept, r_value, p_value, std_err = stats.linregress(x, y)\n",
    "r_value**2\n"
   ]
  },
  {
   "cell_type": "code",
   "execution_count": null,
   "metadata": {},
   "outputs": [],
   "source": [
    "r_values**2"
   ]
  },
  {
   "cell_type": "code",
   "execution_count": null,
   "metadata": {},
   "outputs": [],
   "source": [
    "(r_values**2).mean()"
   ]
  },
  {
   "cell_type": "code",
   "execution_count": null,
   "metadata": {},
   "outputs": [],
   "source": [
    "plt.hist((r_values**2).flatten(), bins=100);"
   ]
  },
  {
   "cell_type": "code",
   "execution_count": null,
   "metadata": {},
   "outputs": [],
   "source": [
    "X = (X - X.mean(1)[:, None]) / np.sqrt(np.var(X, 1))[:, None]"
   ]
  },
  {
   "cell_type": "code",
   "execution_count": null,
   "metadata": {},
   "outputs": [],
   "source": []
  },
  {
   "cell_type": "code",
   "execution_count": null,
   "metadata": {},
   "outputs": [],
   "source": [
    "(X @ X.T) / 838"
   ]
  },
  {
   "cell_type": "code",
   "execution_count": null,
   "metadata": {},
   "outputs": [],
   "source": [
    "N"
   ]
  },
  {
   "cell_type": "code",
   "execution_count": null,
   "metadata": {},
   "outputs": [],
   "source": [
    "LD"
   ]
  },
  {
   "cell_type": "code",
   "execution_count": null,
   "metadata": {},
   "outputs": [],
   "source": [
    "X @ X.T"
   ]
  },
  {
   "cell_type": "code",
   "execution_count": null,
   "metadata": {},
   "outputs": [],
   "source": [
    "# load expression\n",
    "print('loading expression...')\n",
    "expression = pickle.load(open('./chr22_expression', 'rb'))\n",
    "expression = pd.concat(expression, sort=True)\n",
    "expression.reset_index(inplace=True)\n",
    "expression.rename(columns={'level_0': 'tissue'}, inplace=True)\n",
    "expression.set_index(['gene_id', 'tissue'], inplace=True)"
   ]
  },
  {
   "cell_type": "code",
   "execution_count": null,
   "metadata": {},
   "outputs": [],
   "source": [
    "associations"
   ]
  },
  {
   "cell_type": "code",
   "execution_count": null,
   "metadata": {},
   "outputs": [],
   "source": [
    " associations.variant_id.apply(lambda x: int(x.split('_')[1])) - associations.tss_distance"
   ]
  },
  {
   "cell_type": "code",
   "execution_count": null,
   "metadata": {},
   "outputs": [],
   "source": [
    "associations.variant_id.apply(lambda x: x.split('_')[1])"
   ]
  },
  {
   "cell_type": "code",
   "execution_count": null,
   "metadata": {},
   "outputs": [],
   "source": [
    "import panda_plink"
   ]
  },
  {
   "cell_type": "code",
   "execution_count": null,
   "metadata": {},
   "outputs": [],
   "source": [
    "associations"
   ]
  },
  {
   "cell_type": "code",
   "execution_count": null,
   "metadata": {},
   "outputs": [],
   "source": [
    "chr22_genotype"
   ]
  },
  {
   "cell_type": "code",
   "execution_count": null,
   "metadata": {},
   "outputs": [],
   "source": []
  }
 ],
 "metadata": {
  "kernelspec": {
   "display_name": "Python [conda env:3.6]",
   "language": "python",
   "name": "conda-env-3.6-py"
  },
  "language_info": {
   "codemirror_mode": {
    "name": "ipython",
    "version": 3
   },
   "file_extension": ".py",
   "mimetype": "text/x-python",
   "name": "python",
   "nbconvert_exporter": "python",
   "pygments_lexer": "ipython3",
   "version": "3.6.5"
  }
 },
 "nbformat": 4,
 "nbformat_minor": 2
}
