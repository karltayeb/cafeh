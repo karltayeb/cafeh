{
 "cells": [
  {
   "cell_type": "code",
   "execution_count": 1,
   "metadata": {},
   "outputs": [],
   "source": [
    "%load_ext autoreload\n",
    "%autoreload 2"
   ]
  },
  {
   "cell_type": "code",
   "execution_count": 2,
   "metadata": {},
   "outputs": [],
   "source": [
    "import numpy as np\n",
    "import pandas as pd\n",
    "import pickle\n",
    "import os\n",
    "\n",
    "from collections import namedtuple\n",
    "from spike_and_slab_ser import SpikeSlabSER\n",
    "\n",
    "import matplotlib.pyplot as plt\n",
    "import seaborn as sns\n",
    "\n",
    "ModelParams = None\n",
    "\n",
    "model_names = os.listdir('./output/models/')\n",
    "\n",
    "models = {}\n",
    "for model in model_names:\n",
    "    model_dict = pickle.load(open('./output/models/{}'.format(model), 'rb'))\n",
    "    #if ModelParams is None:\n",
    "    #    ModelParams = namedtuple('ModelParams', model_dict.keys())\n",
    "    #models[model] = ModelParams(**model_dict)\n",
    "    models[model] = model_dict\n",
    "    \n",
    "def split(model_name):\n",
    "    gene, K, penalty, nonneg, run = model_name.split('_')[:-1]\n",
    "    gene = gene[4:]\n",
    "    K = int(K[1:])\n",
    "    penalty = float(penalty[6:])\n",
    "    nonneg = bool(nonneg[5:])\n",
    "    run = int(run)\n",
    "    return {'gene': gene, 'K': K, 'penalty': penalty, 'nonneg': nonneg, 'run': run}\n",
    "\n",
    "def get_key(row):\n",
    "    return 'gene-{}_sigma2-{}_phi-{}_K-{}_run-{}_model'.format(*list(row))\n",
    "\n",
    "def get_zscores(gene):\n",
    "    pass"
   ]
  },
  {
   "cell_type": "code",
   "execution_count": 3,
   "metadata": {},
   "outputs": [],
   "source": [
    "keys = list(models.keys())\n",
    "overview = pd.DataFrame([{x.split('-')[0]: x.split('-')[1] for x in key.split('_')[:-1]} for key in keys])\n",
    "\n",
    "genes = np.unique(overview.gene)\n",
    "sigma2s = np.unique(overview.sigma2)\n",
    "phis = np.unique(overview.phi)\n",
    "Ks = np.unique(overview.K)"
   ]
  },
  {
   "cell_type": "code",
   "execution_count": 4,
   "metadata": {},
   "outputs": [
    {
     "name": "stdout",
     "output_type": "stream",
     "text": [
      "['ENSG00000073464.11' 'ENSG00000100258.17' 'ENSG00000135362.13'\n",
      " 'ENSG00000141644.17' 'ENSG00000141934.9' 'ENSG00000160181.8'\n",
      " 'ENSG00000164904.17' 'ENSG00000178172.6' 'ENSG00000184293.7'\n",
      " 'ENSG00000185238.12']\n",
      "['10.00' '100.00' '20.00' '5.00']\n",
      "['0.02' '0.05' '0.14' '0.37']\n",
      "['20']\n"
     ]
    }
   ],
   "source": [
    "print(genes)\n",
    "print(sigma2s)\n",
    "print(phis)\n",
    "print(Ks)"
   ]
  },
  {
   "cell_type": "code",
   "execution_count": 5,
   "metadata": {},
   "outputs": [
    {
     "name": "stdout",
     "output_type": "stream",
     "text": [
      "gene-ENSG00000073464.11_sigma2-20.00_phi-0.37_K-20_run-1_model\n",
      "gene-ENSG00000100258.17_sigma2-20.00_phi-0.37_K-20_run-1_model\n",
      "gene-ENSG00000135362.13_sigma2-20.00_phi-0.37_K-20_run-1_model\n",
      "gene-ENSG00000141644.17_sigma2-20.00_phi-0.37_K-20_run-1_model\n",
      "making path: ./figs/sigma2-20.00_phi-0.37/ENSG00000141644.17\n",
      "gene-ENSG00000141934.9_sigma2-20.00_phi-0.37_K-20_run-1_model\n",
      "making path: ./figs/sigma2-20.00_phi-0.37/ENSG00000141934.9\n",
      "gene-ENSG00000160181.8_sigma2-20.00_phi-0.37_K-20_run-1_model\n",
      "making path: ./figs/sigma2-20.00_phi-0.37/ENSG00000160181.8\n",
      "gene-ENSG00000164904.17_sigma2-20.00_phi-0.37_K-20_run-1_model\n",
      "making path: ./figs/sigma2-20.00_phi-0.37/ENSG00000164904.17\n",
      "gene-ENSG00000178172.6_sigma2-20.00_phi-0.37_K-20_run-1_model\n",
      "making path: ./figs/sigma2-20.00_phi-0.37/ENSG00000178172.6\n",
      "gene-ENSG00000184293.7_sigma2-20.00_phi-0.37_K-20_run-1_model\n",
      "making path: ./figs/sigma2-20.00_phi-0.37/ENSG00000184293.7\n",
      "gene-ENSG00000185238.12_sigma2-20.00_phi-0.37_K-20_run-1_model\n",
      "making path: ./figs/sigma2-20.00_phi-0.37/ENSG00000185238.12\n"
     ]
    }
   ],
   "source": [
    "for gene in genes:\n",
    "    key = get_key([gene, sigma2s[2], phis[3], Ks[0], 1])\n",
    "    print(key)\n",
    "\n",
    "    model = SpikeSlabSER(np.zeros((1, 1)), np.zeros((1, 1)), 1, [], [], 0.1, 10.0)\n",
    "    model.__dict__ = models[key]\n",
    "    \n",
    "    path = './figs/{}/{}'.format('_'.join(key.split('_')[1:3]), gene)\n",
    "    if not os.path.isdir(path):\n",
    "        print('making path: {}'.format(path))\n",
    "        os.makedirs(path)\n",
    "    \n",
    "    model.plot_assignment_kl(save_path='{}/{}_assignment_kl.png'.format(path, key))\n",
    "    model.plot_credible_sets_ld(save_path='{}/{}_credible_set_ld.png'.format(path, key))\n",
    "    model.plot_colocalizations(save_path='{}/{}_colocalization.png'.format(path, key))\n",
    "\n",
    "    model.plot_components(save_path='{}/{}_component_summary.png'.format(path, key))\n",
    "    model.plot_component_x_component(save_path='{}/{}_component_x_component.png'.format(path, key))\n",
    "    \n",
    "    model.plot_decomposed_zscores(save_path='{}/{}_zscores.png'.format(path, key))\n",
    "    model.plot_decomposed_manhattan(save_path='{}/{}_manhattan.png'.format(path, key))\n",
    "\n",
    "    model.plot_residual_manhattan(save_path='{}/{}_residual_manhattan.png'.format(path, key))\n",
    "    model.plot_residual_zscores(save_path='{}/{}_residual_zscores.png'.format(path, key))\n"
   ]
  },
  {
   "cell_type": "code",
   "execution_count": 8,
   "metadata": {},
   "outputs": [
    {
     "name": "stdout",
     "output_type": "stream",
     "text": [
      "gene-ENSG00000073464.11_sigma2-20.00_phi-0.14_K-20_run-1_model\n",
      "making path: ./figs/sigma2-20.00_phi-0.14/ENSG00000073464.11\n",
      "gene-ENSG00000100258.17_sigma2-20.00_phi-0.14_K-20_run-1_model\n",
      "making path: ./figs/sigma2-20.00_phi-0.14/ENSG00000100258.17\n",
      "gene-ENSG00000135362.13_sigma2-20.00_phi-0.14_K-20_run-1_model\n",
      "making path: ./figs/sigma2-20.00_phi-0.14/ENSG00000135362.13\n",
      "gene-ENSG00000141644.17_sigma2-20.00_phi-0.14_K-20_run-1_model\n",
      "making path: ./figs/sigma2-20.00_phi-0.14/ENSG00000141644.17\n",
      "gene-ENSG00000141934.9_sigma2-20.00_phi-0.14_K-20_run-1_model\n",
      "making path: ./figs/sigma2-20.00_phi-0.14/ENSG00000141934.9\n",
      "gene-ENSG00000160181.8_sigma2-20.00_phi-0.14_K-20_run-1_model\n",
      "making path: ./figs/sigma2-20.00_phi-0.14/ENSG00000160181.8\n",
      "gene-ENSG00000164904.17_sigma2-20.00_phi-0.14_K-20_run-1_model\n",
      "making path: ./figs/sigma2-20.00_phi-0.14/ENSG00000164904.17\n",
      "gene-ENSG00000178172.6_sigma2-20.00_phi-0.14_K-20_run-1_model\n",
      "making path: ./figs/sigma2-20.00_phi-0.14/ENSG00000178172.6\n",
      "gene-ENSG00000184293.7_sigma2-20.00_phi-0.14_K-20_run-1_model\n",
      "making path: ./figs/sigma2-20.00_phi-0.14/ENSG00000184293.7\n",
      "gene-ENSG00000185238.12_sigma2-20.00_phi-0.14_K-20_run-1_model\n",
      "making path: ./figs/sigma2-20.00_phi-0.14/ENSG00000185238.12\n"
     ]
    }
   ],
   "source": [
    "for gene in genes:\n",
    "    key = get_key([gene, sigma2s[2], phis[2], Ks[0], 1])\n",
    "    print(key)\n",
    "\n",
    "    model = SpikeSlabSER(np.zeros((1, 1)), np.zeros((1, 1)), 1, [], [], 0.1, 10.0)\n",
    "    model.__dict__ = models[key]\n",
    "    \n",
    "    path = './figs/{}/{}'.format('_'.join(key.split('_')[1:3]), gene)\n",
    "    if not os.path.isdir(path):\n",
    "        print('making path: {}'.format(path))\n",
    "        os.makedirs(path)\n",
    "    \n",
    "    model.plot_assignment_kl(save_path='{}/{}_assignment_kl.png'.format(path, key))\n",
    "    model.plot_credible_sets_ld(save_path='{}/{}_credible_set_ld.png'.format(path, key))\n",
    "    model.plot_colocalizations(save_path='{}/{}_colocalization.png'.format(path, key))\n",
    "\n",
    "    model.plot_components(save_path='{}/{}_component_summary.png'.format(path, key))\n",
    "    model.plot_component_x_component(save_path='{}/{}_component_x_component.png'.format(path, key))\n",
    "    \n",
    "    model.plot_decomposed_zscores(save_path='{}/{}_zscores.png'.format(path, key))\n",
    "    model.plot_decomposed_manhattan(save_path='{}/{}_manhattan.png'.format(path, key))\n",
    "\n",
    "    model.plot_residual_manhattan(save_path='{}/{}_residual_manhattan.png'.format(path, key))\n",
    "    model.plot_residual_zscores(save_path='{}/{}_residual_zscores.png'.format(path, key))\n",
    "\n"
   ]
  },
  {
   "cell_type": "code",
   "execution_count": 13,
   "metadata": {},
   "outputs": [],
   "source": [
    "from scipy.stats import norm"
   ]
  },
  {
   "cell_type": "code",
   "execution_count": 28,
   "metadata": {},
   "outputs": [
    {
     "data": {
      "text/plain": [
       "0.6931471805599453"
      ]
     },
     "execution_count": 28,
     "metadata": {},
     "output_type": "execute_result"
    }
   ],
   "source": [
    "-norm.logcdf(0) #- np.log(2)"
   ]
  },
  {
   "cell_type": "code",
   "execution_count": null,
   "metadata": {},
   "outputs": [],
   "source": [
    "for gene in genes:\n",
    "    key = get_key([gene, sigma2s[2], phis[3], Ks[0], 1])\n",
    "    model = SpikeSlabSER(np.zeros((1, 1)), np.zeros((1, 1)), 1, [], [], 0.1, 10.0)\n",
    "    model.__dict__ = models[key]\n",
    "    model.plot_decomposed_zscores(save_path='figs/zscores/{}_zscores.png'.format(key))"
   ]
  },
  {
   "cell_type": "code",
   "execution_count": null,
   "metadata": {},
   "outputs": [],
   "source": [
    "for gene in genes:\n",
    "    key = get_key([gene, sigma2s[2], phis[3], Ks[0], 1])\n",
    "    model = SpikeSlabSER(np.zeros((1, 1)), np.zeros((1, 1)), 1, [], [], 0.1, 10.0)\n",
    "    model.__dict__ = models[key]\n",
    "    model.plot_decomposed_manhattan(save_path='figs/manhattan/{}_manhattan.png'.format(key))"
   ]
  },
  {
   "cell_type": "code",
   "execution_count": null,
   "metadata": {},
   "outputs": [],
   "source": [
    "for gene in genes:\n",
    "    key = get_key([gene, sigma2s[2], phis[3], Ks[0], 1])\n",
    "    model = SpikeSlabSER(np.zeros((1, 1)), np.zeros((1, 1)), 1, [], [], 0.1, 10.0)\n",
    "    model.__dict__ = models[key]\n",
    "    model.plot_decomposed_manhattan2(save_path='figs/{}_manhattan.png'.format(key))"
   ]
  },
  {
   "cell_type": "code",
   "execution_count": null,
   "metadata": {},
   "outputs": [],
   "source": [
    "for gene in genes:\n",
    "    key = get_key([gene, sigma2s[2], phis[3], Ks[0], 1])\n",
    "    model = SpikeSlabSER(np.zeros((1, 1)), np.zeros((1, 1)), 1, [], [], 0.1, 10.0)\n",
    "    model.__dict__ = models[key]\n",
    "    model.plot_colocalizations(save_path='figs/colocalization/{}_colocalization.png'.format(key))"
   ]
  },
  {
   "cell_type": "code",
   "execution_count": null,
   "metadata": {},
   "outputs": [],
   "source": [
    "for gene in genes:\n",
    "    key = get_key([gene, sigma2s[2], phis[3], Ks[0], 1])\n",
    "    model = SpikeSlabSER(np.zeros((1, 1)), np.zeros((1, 1)), 1, [], [], 0.1, 10.0)\n",
    "    model.__dict__ = models[key]\n",
    "    model.plot_components(save_path='component_overview/{}_component_overview.png'.format(key))"
   ]
  },
  {
   "cell_type": "code",
   "execution_count": null,
   "metadata": {},
   "outputs": [],
   "source": [
    "model.plot_colocalizations()"
   ]
  },
  {
   "cell_type": "code",
   "execution_count": null,
   "metadata": {},
   "outputs": [],
   "source": [
    "int(np.sqrt(model.tissue_ids.size))"
   ]
  },
  {
   "cell_type": "code",
   "execution_count": null,
   "metadata": {},
   "outputs": [],
   "source": [
    "int(np.sqrt(model.tissue_ids.size))"
   ]
  },
  {
   "cell_type": "code",
   "execution_count": null,
   "metadata": {},
   "outputs": [],
   "source": [
    "model = SpikeSlabSER(np.zeros((1, 1)), np.zeros((1, 1)), 1, [], [], 0.1, 10.0)\n",
    "model.__dict__ = models[key]"
   ]
  },
  {
   "cell_type": "code",
   "execution_count": null,
   "metadata": {},
   "outputs": [],
   "source": [
    "model.plot_components()"
   ]
  },
  {
   "cell_type": "code",
   "execution_count": null,
   "metadata": {},
   "outputs": [],
   "source": [
    "model.plot_component_correlations(save_path='./test.png')"
   ]
  },
  {
   "cell_type": "code",
   "execution_count": null,
   "metadata": {},
   "outputs": [],
   "source": [
    "model.plot_credible_sets_ld(alpha=0.9, thresh=0.5)"
   ]
  },
  {
   "cell_type": "code",
   "execution_count": null,
   "metadata": {},
   "outputs": [],
   "source": [
    "model.plot_decomposed_zscores2()"
   ]
  },
  {
   "cell_type": "code",
   "execution_count": null,
   "metadata": {},
   "outputs": [],
   "source": [
    "active_tissue_x_components = (model.active > 0.5)\n",
    "active_components = np.any(active_tissue_x_components, 0)"
   ]
  },
  {
   "cell_type": "code",
   "execution_count": null,
   "metadata": {},
   "outputs": [],
   "source": [
    "for c in np.arange(model.K)[active_components]:\n",
    "    model.plot_decomposed_zscores(tissues=model.tissue_ids[active_tissue_x_components[:, c]])"
   ]
  },
  {
   "cell_type": "code",
   "execution_count": null,
   "metadata": {},
   "outputs": [],
   "source": [
    "for c in np.arange(model.K)[active_components]:\n",
    "    model.plot_decomposed_manhattan(tissues=model.tissue_ids[active_tissue_x_components[:, c]])"
   ]
  },
  {
   "cell_type": "code",
   "execution_count": null,
   "metadata": {},
   "outputs": [],
   "source": [
    "np.arange(model.T)[active_tissue_x_components[:, c]]"
   ]
  },
  {
   "cell_type": "code",
   "execution_count": null,
   "metadata": {},
   "outputs": [],
   "source": [
    "model.plot_decomposed_zscores()"
   ]
  },
  {
   "cell_type": "code",
   "execution_count": null,
   "metadata": {},
   "outputs": [],
   "source": [
    "model.plot_decomposed_zscores()"
   ]
  },
  {
   "cell_type": "code",
   "execution_count": null,
   "metadata": {
    "scrolled": true
   },
   "outputs": [],
   "source": [
    "model.plot_decomposed_manhattan()"
   ]
  },
  {
   "cell_type": "code",
   "execution_count": null,
   "metadata": {},
   "outputs": [],
   "source": [
    "model.get_credible_sets(alpha=0.9, thresh=0.5)"
   ]
  },
  {
   "cell_type": "code",
   "execution_count": null,
   "metadata": {},
   "outputs": [],
   "source": [
    "model.plot_assignment_kl()"
   ]
  },
  {
   "cell_type": "code",
   "execution_count": null,
   "metadata": {},
   "outputs": [],
   "source": [
    "model.get_cre"
   ]
  },
  {
   "cell_type": "code",
   "execution_count": null,
   "metadata": {},
   "outputs": [],
   "source": [
    "model.plot_credible_sets_ld(alpha=0.5, thresh=0.5)"
   ]
  },
  {
   "cell_type": "code",
   "execution_count": null,
   "metadata": {},
   "outputs": [],
   "source": [
    "model.tissue_ids"
   ]
  },
  {
   "cell_type": "code",
   "execution_count": null,
   "metadata": {},
   "outputs": [],
   "source": [
    "model.snp_ids"
   ]
  },
  {
   "cell_type": "code",
   "execution_count": null,
   "metadata": {},
   "outputs": [],
   "source": [
    "zscore_path = './data/zscore_genes_for_Karl/'\n",
    "gene = param.gene\n",
    "zscores = pd.read_csv(zscore_path + param.gene + '.zscore_matrix.txt', '\\t', index_col=0)\n",
    "Y = zscores.loc[snps].values.T\n",
    "\n",
    "ld_path = './marios_correlation_matrices/'\n",
    "X = pd.read_csv(ld_path + param.gene, index_col=0)\n",
    "X = X.loc[snps, snps]\n",
    "X = (X + np.eye(X.shape[0])*1e-5)/(1 + 1e-5)"
   ]
  },
  {
   "cell_type": "code",
   "execution_count": null,
   "metadata": {},
   "outputs": [],
   "source": [
    "key = 'geneENSG00000185238.12_K20_lambda1_nonnegTrue_3_model'"
   ]
  },
  {
   "cell_type": "code",
   "execution_count": null,
   "metadata": {},
   "outputs": [],
   "source": [
    "overview.columns"
   ]
  },
  {
   "cell_type": "code",
   "execution_count": null,
   "metadata": {},
   "outputs": [],
   "source": [
    "for gene in np.unique(overview.gene):\n",
    "    fig, ax = plt.subplots(10, 4, figsize=(4*5, 4*8))\n",
    "    for s, penalty in enumerate(['0.1', '1', '10', '20']):\n",
    "        for t, k in enumerate([10, 20]):\n",
    "            for run in range(5):\n",
    "                key = get_key([gene, k, penalty, True, run])\n",
    "                param = models[key]\n",
    "\n",
    "                N = param.N\n",
    "                K = param.K\n",
    "                T = param.T\n",
    "                pi = param.pi\n",
    "                weights = param.weights\n",
    "                beta_means = param.beta_means\n",
    "                beta_vars = param.beta_vars\n",
    "                tissues = param.tissues\n",
    "                snps = param.snp_ids\n",
    "\n",
    "                active = weights.max(0) > 1e-3\n",
    "                if active.sum() == 0:\n",
    "                    active[weights.max(0).argmax()] = True\n",
    "\n",
    "                lead_snp = pi.argmax(0)\n",
    "                lead_snp = lead_snp[active]\n",
    "                sorter = np.argsort(lead_snp)\n",
    "                ordered_active_components = np.arange(K)[active][sorter]\n",
    "\n",
    "                \"\"\"\n",
    "                # make plot\n",
    "                for i, c in enumerate(ordered_active_components):\n",
    "                    ax[5*t + run, s].scatter(\n",
    "                        np.arange(N), pi[:, c], alpha=0.5, label='{}, {}'.format(c, snps[lead_snp[sorter][i]]))\n",
    "                \"\"\"\n",
    "                if s == 0:\n",
    "                    sns.heatmap(weights[:, ordered_active_components], ax=ax[5*t + run, s],\n",
    "                        annot=False, cmap='Blues',\n",
    "                        xticklabels=ordered_active_components, yticklabels=tissues)\n",
    "                else:\n",
    "                    sns.heatmap(weights[:, ordered_active_components], ax=ax[5*t + run, s],\n",
    "                        annot=False, cmap='Blues',\n",
    "                        xticklabels=ordered_active_components)\n",
    "    \n",
    "                ax[5*t + run, s].set_title('K{}, penalty{}, {}'.format(K, penalty, run))\n",
    "    plt.suptitle(gene)\n",
    "    plt.savefig('./mixed_ser/figs/{}_weights.png'.format(gene))\n",
    "    plt.show()\n",
    "    plt.close()"
   ]
  },
  {
   "cell_type": "code",
   "execution_count": null,
   "metadata": {},
   "outputs": [],
   "source": [
    "for gene in np.unique(overview.gene):\n",
    "    fig, ax = plt.subplots(4, 10, figsize=(4*8, 4*5))\n",
    "    for s, penalty in enumerate(['0.1', '1', '10', '20']):\n",
    "        for t, k in enumerate([10, 20]):\n",
    "            for run in range(5):\n",
    "                key = get_key([gene, k, penalty, True, run])\n",
    "                param = models[key]\n",
    "\n",
    "                N = param.N\n",
    "                K = param.K\n",
    "                T = param.T\n",
    "                pi = param.pi\n",
    "                weights = param.weights\n",
    "                beta_means = param.beta_means\n",
    "                beta_vars = param.beta_vars\n",
    "                tissues = param.tissues\n",
    "                snps = param.snp_ids\n",
    "\n",
    "                active = weights.max(0) > 1e-3\n",
    "                if active.sum() == 0:\n",
    "                    active[weights.max(0).argmax()] = True\n",
    "\n",
    "                lead_snp = pi.argmax(0)\n",
    "                lead_snp = lead_snp[active]\n",
    "                sorter = np.argsort(lead_snp)\n",
    "                ordered_active_components = np.arange(K)[active][sorter]\n",
    "\n",
    "                \"\"\"\n",
    "                # make plot\n",
    "                for i, c in enumerate(ordered_active_components):\n",
    "                    ax[5*t + run, s].scatter(\n",
    "                        np.arange(N), pi[:, c], alpha=0.5, label='{}, {}'.format(c, snps[lead_snp[sorter][i]]))\n",
    "                \"\"\"\n",
    "                W = (beta_means * weights)[:, ordered_active_components]\n",
    "                vmax = np.abs(W).max()\n",
    "                vmin = -vmax\n",
    "                if t == 0 and run == 0:\n",
    "                    sns.heatmap(W, ax=ax[s, 5*t + run],\n",
    "                        annot=False, cmap='RdBu_r',\n",
    "                        xticklabels=ordered_active_components, yticklabels=tissues,\n",
    "                        vmin=vmin, vmax=vmax)\n",
    "                else:\n",
    "                    sns.heatmap(W, ax=ax[s, 5*t + run],\n",
    "                        annot=False, cmap='RdBu_r',\n",
    "                        xticklabels=ordered_active_components,\n",
    "                        vmin=vmin, vmax=vmax)\n",
    "    \n",
    "                ax[s, 5*t + run].set_title('K{}, penalty{}, {}'.format(K, penalty, run))\n",
    "    #plt.suptitle(gene)\n",
    "    plt.savefig('./mixed_ser/figs/{}_beta_weights.png'.format(gene))\n",
    "    plt.show()\n",
    "    plt.close()"
   ]
  },
  {
   "cell_type": "code",
   "execution_count": null,
   "metadata": {},
   "outputs": [],
   "source": [
    "C = np.zeros((m.T, m.T))\n",
    "penalty = '10'\n",
    "K = 10\n",
    "\n",
    "for gene in genes:\n",
    "    fig, ax = plt.subplots(2, 4, figsize=(5*4, 4*2))\n",
    "    \n",
    "    for j, penalty in enumerate(['0.1', '1', '10', '20']):\n",
    "        for i, k in enumerate([10, 20]):\n",
    "            for run in range(5):\n",
    "                key = get_key([gene, K, penalty, True, run])\n",
    "                m = models[key]\n",
    "\n",
    "                if run == 0:\n",
    "                    C = np.zeros((m.T, m.T))\n",
    "\n",
    "                weights = m.weights\n",
    "                W = (m.beta_means * m.weights)\n",
    "                C += (W @ W.T)\n",
    "            \n",
    "            sns.heatmap(np.sqrt(C + np.abs(C.min())), ax=ax[i, j], square=True, cmap='Blues')\n",
    "            ax[i, j].set_title('{}\\nK{}, penalty{}'.format(gene, K, penalty))\n",
    "    plt.show()"
   ]
  },
  {
   "cell_type": "code",
   "execution_count": null,
   "metadata": {},
   "outputs": [],
   "source": [
    "print(genes)"
   ]
  },
  {
   "cell_type": "code",
   "execution_count": null,
   "metadata": {},
   "outputs": [],
   "source": [
    "sns.heatmap((weights > 1e-3).astype(int))"
   ]
  },
  {
   "cell_type": "code",
   "execution_count": null,
   "metadata": {},
   "outputs": [],
   "source": [
    "def coincidence(weights, thresh):"
   ]
  },
  {
   "cell_type": "code",
   "execution_count": null,
   "metadata": {},
   "outputs": [],
   "source": [
    "key = get_key([genes[0], 10, '0.1', True, 2])\n",
    "m = models[key]\n",
    "plt.scatter(np.arange(m.N), m.pi[:, 4], label=key, alpha=0.1)\n",
    "\n",
    "key = get_key([genes[0], 10, '1', True, 4])\n",
    "m = models[key]\n",
    "plt.scatter(np.arange(m.N), m.pi[:, 4], label=key, alpha=0.1)\n",
    "\n",
    "key = get_key([genes[0], 10, '10', True, 3])\n",
    "m = models[key]\n",
    "plt.scatter(np.arange(m.N), m.pi[:, 2], label=key, alpha=0.1)\n",
    "\n",
    "\n",
    "plt.legend()"
   ]
  },
  {
   "cell_type": "code",
   "execution_count": null,
   "metadata": {},
   "outputs": [],
   "source": [
    "key = get_key([genes[4], 10, '1', True, 2])\n",
    "m = models[key]\n",
    "plt.scatter(np.arange(m.N), m.pi[:, 4], label=key, alpha=0.1)\n",
    "snps1 = np.arange(m.N)[m.pi[:, 4] > 0.05]\n",
    "\n",
    "key = get_key([genes[4], 10, '1', True, 3])\n",
    "m = models[key]\n",
    "plt.scatter(np.arange(m.N), m.pi[:, 5], label=key, alpha=0.1)\n",
    "snps2 = np.arange(m.N)[m.pi[:, 5] > 0.05]\n",
    "\n",
    "plt.legend()"
   ]
  },
  {
   "cell_type": "code",
   "execution_count": null,
   "metadata": {},
   "outputs": [],
   "source": [
    "ld_path = './marios_correlation_matrices/'\n",
    "X = pd.read_csv(ld_path + genes[4], index_col=0)\n",
    "X = X.loc[m.snp_ids, m.snp_ids]\n",
    "X = (X + np.eye(X.shape[0])*1e-5)/(1 + 1e-5)"
   ]
  },
  {
   "cell_type": "code",
   "execution_count": null,
   "metadata": {},
   "outputs": [],
   "source": [
    "snps1, snps2"
   ]
  },
  {
   "cell_type": "code",
   "execution_count": null,
   "metadata": {},
   "outputs": [],
   "source": [
    "sns.heatmap(X.values[np.concatenate([snps1, snps2])][:, np.concatenate([snps1, snps2])], cmap='RdBu_r')"
   ]
  },
  {
   "cell_type": "code",
   "execution_count": null,
   "metadata": {},
   "outputs": [],
   "source": [
    "sns.heatmap(X[snps1][:, snps2])"
   ]
  },
  {
   "cell_type": "code",
   "execution_count": null,
   "metadata": {},
   "outputs": [],
   "source": [
    "key = get_key([genes[0], 10, 0.1, True, 2])\n",
    "m = models[key]\n",
    "plt.scatter(np.arange(m.N), m.pi[:, 7], label=key)\n",
    "\n",
    "key = get_key([genes[0], 10, '1', True, 2])\n",
    "m = models[key]\n",
    "plt.scatter(np.arange(m.N), m.pi[:, 3], label=key)\n",
    "\n",
    "key = get_key([genes[0], 10, '10', True, 2])\n",
    "m = models[key]\n",
    "plt.scatter(np.arange(m.N), m.pi[:, 0], label=key)\n",
    "\n",
    "plt.legend()"
   ]
  },
  {
   "cell_type": "code",
   "execution_count": null,
   "metadata": {},
   "outputs": [],
   "source": [
    "for gene in np.unique(overview.gene):\n",
    "    fig, ax = plt.subplots(10, 4, figsize=(4*4, 4*10))\n",
    "    for s, penalty in enumerate(['0.1', '1', '10', '20']):\n",
    "        for t, k in enumerate([10, 20]):\n",
    "            for run in range(5):\n",
    "                key = get_key([gene, k, penalty, True, run])\n",
    "                param = models[key]\n",
    "\n",
    "                N = param.N\n",
    "                K = param.K\n",
    "                T = param.T\n",
    "                pi = param.pi\n",
    "                weights = param.weights\n",
    "                beta_means = param.beta_means\n",
    "                beta_vars = param.beta_vars\n",
    "                tissues = param.tissues\n",
    "                snps = param.snp_ids\n",
    "\n",
    "                active = weights.max(0) > 1e-3\n",
    "                if active.sum() == 0:\n",
    "                    active[weights.max(0).argmax()] = True\n",
    "\n",
    "                lead_snp = pi.argmax(0)\n",
    "                lead_snp = lead_snp[active]\n",
    "                sorter = np.argsort(lead_snp)\n",
    "                ordered_active_components = np.arange(K)[active][sorter]\n",
    "\n",
    "                \n",
    "                # make plot\n",
    "                for i, c in enumerate(ordered_active_components):\n",
    "                    ax[5*t + run, s].scatter(\n",
    "                        np.arange(N), pi[:, c], alpha=0.5, label='{}, {}'.format(c, snps[lead_snp[sorter][i]]))\n",
    "                \"\"\"\n",
    "                if s == 0:\n",
    "                    sns.heatmap(weights[:, ordered_active_components], ax=ax[5*t + run, s],\n",
    "                        annot=False, cmap='Blues',\n",
    "                        xticklabels=ordered_active_components, yticklabels=tissues)\n",
    "                else:\n",
    "                    sns.heatmap(weights[:, ordered_active_components], ax=ax[5*t + run, s],\n",
    "                        annot=False, cmap='Blues',\n",
    "                        xticklabels=ordered_active_components)\n",
    "                \"\"\"\n",
    "                ax[5*t + run, s].set_title('K{}, penalty{}, {}'.format(K, penalty, run))\n",
    "    plt.suptitle(gene)\n",
    "    plt.savefig('./mixed_ser/figs/{}_pi.png'.format(gene))\n",
    "    plt.show()\n",
    "    plt.close()"
   ]
  },
  {
   "cell_type": "code",
   "execution_count": null,
   "metadata": {},
   "outputs": [],
   "source": [
    "for key in models.keys():\n",
    "    \n",
    "    param = models[key]\n",
    "\n",
    "    N = param.N\n",
    "    K = param.K\n",
    "    T = param.T\n",
    "    pi = param.pi\n",
    "    weights = param.weights\n",
    "    beta_means = param.beta_means\n",
    "    beta_vars = param.beta_vars\n",
    "    tissues = param.tissues\n",
    "    snps = param.snp_ids\n",
    "\n",
    "    active = weights.max(0) > 1e-3\n",
    "    if active.sum() == 0:\n",
    "        active[weights.max(0).argmax()] = True\n",
    "\n",
    "    lead_snp = pi.argmax(0)\n",
    "    lead_snp = lead_snp[active]\n",
    "    sorter = np.argsort(lead_snp)\n",
    "    ordered_active_components = np.arange(K)[active][sorter]\n",
    "\n",
    "    # make plot\n",
    "    \"\"\"\n",
    "    fig, ax = plt.subplots(1, active.sum(), figsize=(active.sum()*4, 3), sharex=True, sharey=True)\n",
    "    if active.sum() == 1:\n",
    "        ax = [ax]\n",
    "    for i, k in enumerate(ordered_active_components):\n",
    "        ax[i].scatter(np.arange(N), pi[:, k], alpha=0.5, label=k)\n",
    "        ax[i].set_title('Component {}\\n {}'.format(k, snps[lead_snp[sorter][i]]))\n",
    "\n",
    "    plt.show()\n",
    "    \"\"\"\n",
    "\n",
    "    # make plot\n",
    "    for i, k in enumerate(ordered_active_components):\n",
    "        plt.scatter(np.arange(N), pi[:, k], alpha=0.5, label='{}, {}'.format(k, snps[lead_snp[sorter][i]]))\n",
    "\n",
    "    plt.xlabel('SNP')\n",
    "    plt.ylabel('probability')\n",
    "    plt.legend(loc='center right', bbox_to_anchor=(1.6, 0.5))\n",
    "    plt.savefig('{}_pi.png'.format(key))\n",
    "    plt.close()\n",
    "\n",
    "    fig, ax = plt.subplots(1, figsize=(10, 6))\n",
    "    sns.heatmap(weights[:, ordered_active_components],\n",
    "                annot=False, cmap='Blues',\n",
    "                xticklabels=ordered_active_components, yticklabels=tissues)\n",
    "    plt.title(key)\n",
    "    plt.savefig('{}_weights.png'.format(key))\n",
    "    plt.close()"
   ]
  },
  {
   "cell_type": "code",
   "execution_count": null,
   "metadata": {},
   "outputs": [],
   "source": [
    "gene = genes[0]"
   ]
  },
  {
   "cell_type": "code",
   "execution_count": null,
   "metadata": {},
   "outputs": [],
   "source": [
    "key = get_key([genes[0], 10, '0.1', True, 2])\n",
    "m = models[key]"
   ]
  },
  {
   "cell_type": "code",
   "execution_count": null,
   "metadata": {},
   "outputs": [],
   "source": [
    "zscore_path = './data/zscore_genes_for_Karl/'\n",
    "zscores = pd.read_csv(zscore_path + m.gene + '.zscore_matrix.txt', '\\t', index_col=0)\n",
    "Y = zscores.loc[m.snp_ids].values.T\n",
    "\n",
    "ld_path = './marios_correlation_matrices/'\n",
    "X = pd.read_csv(ld_path + m.gene, index_col=0)\n",
    "X = X.loc[m.snp_ids, m.snp_ids]\n",
    "X = (X + np.eye(X.shape[0])*1e-5)/(1 + 1e-5)"
   ]
  },
  {
   "cell_type": "code",
   "execution_count": null,
   "metadata": {},
   "outputs": [],
   "source": [
    "key = get_key([genes[0], 10, '0.1', True, 2])\n",
    "m = models[key]\n",
    "\n",
    "pred = (m.weights * m.beta_means) @ (X @ m.pi).T\n",
    "fig, ax = plt.subplots(2, m.T, figsize=(4 * m.T, 7), sharey=True, sharex=False)\n",
    "for t in range(m.T):\n",
    "    ax[0, t].scatter(np.arange(m.N), Y[t], marker='x', alpha=0.5, c='k')\n",
    "    ax[0, t].scatter(np.arange(m.N), pred[t], marker='o', alpha=0.5, c='r')\n",
    "    ax[0, t].set_title('{}'.format(m.tissues[t]))\n",
    "    \n",
    "    ax[1, t].scatter(pred[t], Y[t], marker='x', alpha=0.5, c='k')"
   ]
  },
  {
   "cell_type": "code",
   "execution_count": null,
   "metadata": {},
   "outputs": [],
   "source": [
    "key = get_key([genes[0], 10, '1', True, 1])\n",
    "m = models[key]\n",
    "\n",
    "fig, ax = plt.subplots(1, figsize=(20, 20))\n",
    "sns.heatmap(m.weights*m.beta_means, cmap='Blues', yticklabels=m.tissues)"
   ]
  },
  {
   "cell_type": "code",
   "execution_count": null,
   "metadata": {},
   "outputs": [],
   "source": [
    "plt.scatter(np.arange(m.N), m.pi[:, 3])"
   ]
  },
  {
   "cell_type": "code",
   "execution_count": null,
   "metadata": {},
   "outputs": [],
   "source": [
    "plt.scatter(np.arange(m.N), m.pi[:, 6])\n",
    "plt.scatter(np.arange(m.N), m.pi[:, 8])\n",
    "plt.scatter(np.arange(m.N), m.pi[:, 3])"
   ]
  },
  {
   "cell_type": "code",
   "execution_count": null,
   "metadata": {},
   "outputs": [],
   "source": [
    "key = get_key([genes[0], 10, '10', True, 2])\n",
    "m = models[key]\n",
    "\n",
    "sns.heatmap(m.weights * m.beta_means, cmap='Blues')\n",
    "plt.show()\n",
    "\n",
    "pred = (m.weights * m.beta_means) @ (X @ m.pi).T\n",
    "fig, ax = plt.subplots(2, m.T, figsize=(4 * m.T, 7), sharey=True, sharex=False)\n",
    "for t in range(m.T):\n",
    "    ax[0, t].scatter(np.arange(m.N), Y[t], marker='x', alpha=0.5, c='k')\n",
    "    ax[0, t].scatter(np.arange(m.N), pred[t], marker='o', alpha=0.5, c='r')\n",
    "    ax[0, t].set_title('{}'.format(m.tissues[t]))\n",
    "    \n",
    "    ax[1, t].scatter(pred[t], Y[t], marker='x', alpha=0.5, c='k')"
   ]
  },
  {
   "cell_type": "code",
   "execution_count": null,
   "metadata": {},
   "outputs": [],
   "source": [
    "key = get_key([genes[0], 10, '20', True, 2])\n",
    "m = models[key]\n",
    "\n",
    "sns.heatmap(m.weights * m.beta_means, cmap='Blues')\n",
    "plt.show()\n",
    "\n",
    "pred = (m.weights * m.beta_means) @ (X @ m.pi).T\n",
    "fig, ax = plt.subplots(2, m.T, figsize=(4 * m.T, 7), sharey=True, sharex=False)\n",
    "for t in range(m.T):\n",
    "    ax[0, t].scatter(np.arange(m.N), Y[t], marker='x', alpha=0.5, c='k')\n",
    "    ax[0, t].scatter(np.arange(m.N), pred[t], marker='o', alpha=0.5, c='r')\n",
    "    ax[0, t].set_title('{}'.format(m.tissues[t]))\n",
    "    \n",
    "    ax[1, t].scatter(pred[t], Y[t], marker='x', alpha=0.5, c='k')"
   ]
  },
  {
   "cell_type": "code",
   "execution_count": null,
   "metadata": {},
   "outputs": [],
   "source": []
  }
 ],
 "metadata": {
  "kernelspec": {
   "display_name": "Python 3",
   "language": "python",
   "name": "python3"
  },
  "language_info": {
   "codemirror_mode": {
    "name": "ipython",
    "version": 3
   },
   "file_extension": ".py",
   "mimetype": "text/x-python",
   "name": "python",
   "nbconvert_exporter": "python",
   "pygments_lexer": "ipython3",
   "version": "3.7.1"
  }
 },
 "nbformat": 4,
 "nbformat_minor": 2
}
